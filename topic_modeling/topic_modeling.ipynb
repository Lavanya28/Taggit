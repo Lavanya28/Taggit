{
 "cells": [
  {
   "cell_type": "code",
   "execution_count": 2,
   "metadata": {},
   "outputs": [],
   "source": [
    "import pandas as pd\n",
    "import numpy as np\n",
    "import nltk\n",
    "from nltk.corpus import stopwords\n",
    "import gensim\n",
    "from gensim.models import LdaModel\n",
    "from gensim import models, corpora, similarities\n",
    "import re\n",
    "from nltk.stem.porter import PorterStemmer\n",
    "import time\n",
    "from nltk import FreqDist\n",
    "from scipy.stats import entropy\n",
    "import matplotlib.pyplot as plt\n",
    "import seaborn as sns"
   ]
  },
  {
   "cell_type": "code",
   "execution_count": 3,
   "metadata": {},
   "outputs": [
    {
     "name": "stdout",
     "output_type": "stream",
     "text": [
      "<class 'list'>\n"
     ]
    }
   ],
   "source": [
    "df = pd.read_csv('fake.csv', usecols = ['uuid','author','title','text','language','site_url','country'])\n",
    "df = df[df.language == 'english']\n",
    "df = df[df['text'].map(type) == str]\n",
    "df['title'].fillna(value=\"\", inplace=True)\n",
    "df.dropna(axis=0, inplace=True, subset=['text'])\n",
    "# shuffle the data\n",
    "df = df.sample(frac=1.0)\n",
    "df.reset_index(drop=True,inplace=True)\n",
    "df.head()"
   ]
  },
  {
   "cell_type": "code",
   "execution_count": 4,
   "metadata": {},
   "outputs": [
    {
     "name": "stdout",
     "output_type": "stream",
     "text": [
      "<class 'list'>\n"
     ]
    }
   ],
   "source": [
    "def initial_clean(text):\n",
    "    \"\"\"\n",
    "    Function to clean text of websites, email addresess and any punctuation\n",
    "    We also lower case the text\n",
    "    \"\"\"\n",
    "    text = re.sub(\"((\\S+)?(http(s)?)(\\S+))|((\\S+)?(www)(\\S+))|((\\S+)?(\\@)(\\S+)?)\", \" \", text)\n",
    "    text = re.sub(\"[^a-zA-Z ]\", \"\", text)\n",
    "    text = text.lower() # lower case the text\n",
    "    text = nltk.word_tokenize(text)\n",
    "    return text\n",
    "\n",
    "stop_words = stopwords.words('english')\n",
    "def remove_stop_words(text):\n",
    "    \"\"\"\n",
    "    Function that removes all stopwords from text\n",
    "    \"\"\"\n",
    "    return [word for word in text if word not in stop_words]\n",
    "\n",
    "stemmer = PorterStemmer()\n",
    "def stem_words(text):\n",
    "    \"\"\"\n",
    "    Function to stem words, so plural and singular are treated the same\n",
    "    \"\"\"\n",
    "    try:\n",
    "        text = [stemmer.stem(word) for word in text]\n",
    "        text = [word for word in text if len(word) > 1] # make sure we have no 1 letter words\n",
    "    except IndexError: # the word \"oed\" broke this, so needed try except\n",
    "        pass\n",
    "    return text\n",
    "\n",
    "def apply_all(text):\n",
    "    \"\"\"\n",
    "    This function applies all the functions above into one\n",
    "    \"\"\"\n",
    "    return stem_words(remove_stop_words(initial_clean(text)))"
   ]
  },
  {
   "cell_type": "code",
   "execution_count": 5,
   "metadata": {},
   "outputs": [
    {
     "name": "stdout",
     "output_type": "stream",
     "text": [
      "Time to clean and tokenize 12357 articles: 2.6672693332036337 min\n",
      "<class 'list'>\n"
     ]
    }
   ],
   "source": [
    "t1 = time.time()\n",
    "df['tokenized'] = df['text'].apply(apply_all) + df['title'].apply(apply_all)\n",
    "t2 = time.time()\n",
    "print(\"Time to clean and tokenize\", len(df), \"articles:\", (t2-t1)/60, \"min\")"
   ]
  },
  {
   "cell_type": "code",
   "execution_count": 6,
   "metadata": {},
   "outputs": [
    {
     "data": {
      "text/plain": [
       "96280"
      ]
     },
     "execution_count": 6,
     "metadata": {},
     "output_type": "execute_result"
    }
   ],
   "source": [
    "# first get a list of all words\n",
    "all_words = [word for item in list(df['tokenized']) for word in item]\n",
    "# use nltk fdist to get a frequency distribution of all words\n",
    "fdist = FreqDist(all_words)\n",
    "len(fdist) # number of unique words"
   ]
  },
  {
   "cell_type": "code",
   "execution_count": 7,
   "metadata": {},
   "outputs": [
    {
     "data": {
      "text/plain": [
       "[('larvacid', 13),\n",
       " ('imax', 13),\n",
       " ('clickhol', 13),\n",
       " ('wachovia', 13),\n",
       " ('nongaap', 13),\n",
       " ('hanson', 13),\n",
       " ('viper', 13),\n",
       " ('cf', 13),\n",
       " ('toyota', 13),\n",
       " ('indiarussia', 13)]"
      ]
     },
     "execution_count": 7,
     "metadata": {},
     "output_type": "execute_result"
    }
   ],
   "source": [
    "k = 15000\n",
    "top_k_words = fdist.most_common(k)\n",
    "top_k_words[-10:]\n"
   ]
  },
  {
   "cell_type": "code",
   "execution_count": 8,
   "metadata": {},
   "outputs": [],
   "source": [
    "# define a function only to keep words in the top k words\n",
    "top_k_words,_ = zip(*fdist.most_common(k))\n",
    "top_k_words = set(top_k_words)\n",
    "def keep_top_k_words(text):\n",
    "    return [word for word in text if word in top_k_words]"
   ]
  },
  {
   "cell_type": "code",
   "execution_count": 9,
   "metadata": {},
   "outputs": [],
   "source": [
    "df['tokenized'] = df['tokenized'].apply(keep_top_k_words)"
   ]
  },
  {
   "cell_type": "code",
   "execution_count": 10,
   "metadata": {},
   "outputs": [
    {
     "name": "stdout",
     "output_type": "stream",
     "text": [
      "length of list: 12357 \n",
      "average document length 345.66828518248764 \n",
      "minimum document length 0 \n",
      "maximum document length 11576\n"
     ]
    }
   ],
   "source": [
    "# document length\n",
    "df['doc_len'] = df['tokenized'].apply(lambda x: len(x))\n",
    "doc_lengths = list(df['doc_len'])\n",
    "df.drop(labels='doc_len', axis=1, inplace=True)\n",
    "\n",
    "print(\"length of list:\",len(doc_lengths),\n",
    "      \"\\naverage document length\", np.average(doc_lengths),\n",
    "      \"\\nminimum document length\", min(doc_lengths),\n",
    "      \"\\nmaximum document length\", max(doc_lengths))\n",
    "\n"
   ]
  },
  {
   "cell_type": "code",
   "execution_count": 11,
   "metadata": {},
   "outputs": [
    {
     "name": "stderr",
     "output_type": "stream",
     "text": [
      "/usr/local/lib/python3.6/site-packages/matplotlib/axes/_axes.py:6462: UserWarning: The 'normed' kwarg is deprecated, and has been replaced by the 'density' kwarg.\n",
      "  warnings.warn(\"The 'normed' kwarg is deprecated, and has been \"\n"
     ]
    },
    {
     "data": {
      "image/png": "[encoded data removed]",
      "text/plain": [
       "<Figure size 864x432 with 1 Axes>"
      ]
     },
     "metadata": {},
     "output_type": "display_data"
    }
   ],
   "source": [
    "num_bins = 1000\n",
    "fig, ax = plt.subplots(figsize=(12,6));\n",
    "# the histogram of the data\n",
    "n, bins, patches = ax.hist(doc_lengths, num_bins, normed=1)\n",
    "ax.set_xlabel('Document Length (tokens)', fontsize=15)\n",
    "ax.set_ylabel('Normed Frequency', fontsize=15)\n",
    "ax.grid()\n",
    "ax.set_xticks(np.logspace(start=np.log10(50),stop=np.log10(2000),num=8, base=10.0))\n",
    "plt.xlim(0,2000)\n",
    "ax.plot([np.average(doc_lengths) for i in np.linspace(0.0,0.0035,100)], np.linspace(0.0,0.0035,100), '-',\n",
    "        label='average doc length')\n",
    "ax.legend()\n",
    "ax.grid()\n",
    "fig.tight_layout()\n",
    "plt.show()"
   ]
  },
  {
   "cell_type": "code",
   "execution_count": 12,
   "metadata": {},
   "outputs": [
    {
     "name": "stdout",
     "output_type": "stream",
     "text": [
      "After cleaning and excluding short aticles, the dataframe now has: 10812 articles\n"
     ]
    }
   ],
   "source": [
    "# only keep articles with more than 30 tokens, otherwise too short\n",
    "df = df[df['tokenized'].map(len) >= 40]\n",
    "# make sure all tokenized items are lists\n",
    "df = df[df['tokenized'].map(type) == list]\n",
    "df.reset_index(drop=True,inplace=True)\n",
    "print(\"After cleaning and excluding short aticles, the dataframe now has:\", len(df), \"articles\")"
   ]
  },
  {
   "cell_type": "code",
   "execution_count": 13,
   "metadata": {},
   "outputs": [
    {
     "data": {
      "text/html": [
       "<div>\n",
       "<style scoped>\n",
       "    .dataframe tbody tr th:only-of-type {\n",
       "        vertical-align: middle;\n",
       "    }\n",
       "\n",
       "    .dataframe tbody tr th {\n",
       "        vertical-align: top;\n",
       "    }\n",
       "\n",
       "    .dataframe thead th {\n",
       "        text-align: right;\n",
       "    }\n",
       "</style>\n",
       "<table border=\"1\" class=\"dataframe\">\n",
       "  <thead>\n",
       "    <tr style=\"text-align: right;\">\n",
       "      <th></th>\n",
       "      <th>uuid</th>\n",
       "      <th>author</th>\n",
       "      <th>title</th>\n",
       "      <th>text</th>\n",
       "      <th>language</th>\n",
       "      <th>site_url</th>\n",
       "      <th>country</th>\n",
       "      <th>tokenized</th>\n",
       "    </tr>\n",
       "  </thead>\n",
       "  <tbody>\n",
       "    <tr>\n",
       "      <th>0</th>\n",
       "      <td>6a119140f1bf8fbbbe7e812521eecaf5095da46e</td>\n",
       "      <td>Zero Hedge</td>\n",
       "      <td>Wikileaks Releases “DoJ, FBI, Huma Special” Po...</td>\n",
       "      <td>\\nMoments ago, after teasing its twitter follo...</td>\n",
       "      <td>english</td>\n",
       "      <td>thedailysheeple.com</td>\n",
       "      <td>US</td>\n",
       "      <td>[moment, ago, twitter, follow, stay, tune, pod...</td>\n",
       "    </tr>\n",
       "    <tr>\n",
       "      <th>1</th>\n",
       "      <td>cf94a9dde4a5894f5a0a36d75be412bb38888af0</td>\n",
       "      <td>Dawn Parabellum</td>\n",
       "      <td>WikiLeaks Initiates Phase 3: The Dump That Wil...</td>\n",
       "      <td>WikiLeaks Initiates Phase 3: The Dump That Wil...</td>\n",
       "      <td>english</td>\n",
       "      <td>madworldnews.com</td>\n",
       "      <td>US</td>\n",
       "      <td>[wikileak, initi, phase, dump, take, hillari, ...</td>\n",
       "    </tr>\n",
       "    <tr>\n",
       "      <th>2</th>\n",
       "      <td>5bf91ffc2e9b12067b78ce9a021b18201d20dad2</td>\n",
       "      <td>The Mind Unleashed</td>\n",
       "      <td>Pakistani Parliament is the first in the world...</td>\n",
       "      <td>Pakistani Parliament is the first in the world...</td>\n",
       "      <td>english</td>\n",
       "      <td>themindunleashed.com</td>\n",
       "      <td>US</td>\n",
       "      <td>[pakistani, parliament, first, world, go, full...</td>\n",
       "    </tr>\n",
       "    <tr>\n",
       "      <th>3</th>\n",
       "      <td>4477c2e81fe1b07f3efde8327b477325fa7acd53</td>\n",
       "      <td>Scott Osborn</td>\n",
       "      <td>BREAKING: Trump VP Plane Slides Off Runway at ...</td>\n",
       "      <td>0 comments GOP VP candidate Mike Pence’s Trump...</td>\n",
       "      <td>english</td>\n",
       "      <td>ihavethetruth.com</td>\n",
       "      <td>US</td>\n",
       "      <td>[comment, gop, vp, candid, mike, penc, trump, ...</td>\n",
       "    </tr>\n",
       "    <tr>\n",
       "      <th>4</th>\n",
       "      <td>bad9a82686d77e09db7813e71ef4c88136c58a94</td>\n",
       "      <td>Jason Ditz</td>\n",
       "      <td>Shi’ite Militias Enter Mosul Battle, But Eyes ...</td>\n",
       "      <td>Deployment Meant to Block ISIS Escape by Jason...</td>\n",
       "      <td>english</td>\n",
       "      <td>antiwar.com</td>\n",
       "      <td>US</td>\n",
       "      <td>[deploy, meant, block, isi, escap, jason, ditz...</td>\n",
       "    </tr>\n",
       "  </tbody>\n",
       "</table>\n",
       "</div>"
      ],
      "text/plain": [
       "                                       uuid              author  \\\n",
       "0  6a119140f1bf8fbbbe7e812521eecaf5095da46e          Zero Hedge   \n",
       "1  cf94a9dde4a5894f5a0a36d75be412bb38888af0     Dawn Parabellum   \n",
       "2  5bf91ffc2e9b12067b78ce9a021b18201d20dad2  The Mind Unleashed   \n",
       "3  4477c2e81fe1b07f3efde8327b477325fa7acd53        Scott Osborn   \n",
       "4  bad9a82686d77e09db7813e71ef4c88136c58a94          Jason Ditz   \n",
       "\n",
       "                                               title  \\\n",
       "0  Wikileaks Releases “DoJ, FBI, Huma Special” Po...   \n",
       "1  WikiLeaks Initiates Phase 3: The Dump That Wil...   \n",
       "2  Pakistani Parliament is the first in the world...   \n",
       "3  BREAKING: Trump VP Plane Slides Off Runway at ...   \n",
       "4  Shi’ite Militias Enter Mosul Battle, But Eyes ...   \n",
       "\n",
       "                                                text language  \\\n",
       "0  \\nMoments ago, after teasing its twitter follo...  english   \n",
       "1  WikiLeaks Initiates Phase 3: The Dump That Wil...  english   \n",
       "2  Pakistani Parliament is the first in the world...  english   \n",
       "3  0 comments GOP VP candidate Mike Pence’s Trump...  english   \n",
       "4  Deployment Meant to Block ISIS Escape by Jason...  english   \n",
       "\n",
       "               site_url country  \\\n",
       "0   thedailysheeple.com      US   \n",
       "1      madworldnews.com      US   \n",
       "2  themindunleashed.com      US   \n",
       "3     ihavethetruth.com      US   \n",
       "4           antiwar.com      US   \n",
       "\n",
       "                                           tokenized  \n",
       "0  [moment, ago, twitter, follow, stay, tune, pod...  \n",
       "1  [wikileak, initi, phase, dump, take, hillari, ...  \n",
       "2  [pakistani, parliament, first, world, go, full...  \n",
       "3  [comment, gop, vp, candid, mike, penc, trump, ...  \n",
       "4  [deploy, meant, block, isi, escap, jason, ditz...  "
      ]
     },
     "execution_count": 13,
     "metadata": {},
     "output_type": "execute_result"
    }
   ],
   "source": [
    "df.head()"
   ]
  },
  {
   "cell_type": "code",
   "execution_count": 14,
   "metadata": {},
   "outputs": [],
   "source": [
    "# create a mask of binary values\n",
    "msk = np.random.rand(len(df)) < 0.999\n"
   ]
  },
  {
   "cell_type": "code",
   "execution_count": 15,
   "metadata": {},
   "outputs": [],
   "source": [
    "train_df = df[msk]\n",
    "train_df.reset_index(drop=True,inplace=True)\n",
    "\n",
    "test_df = df[~msk]\n",
    "test_df.reset_index(drop=True,inplace=True)"
   ]
  },
  {
   "cell_type": "code",
   "execution_count": 16,
   "metadata": {},
   "outputs": [
    {
     "name": "stdout",
     "output_type": "stream",
     "text": [
      "10812 10800 12\n"
     ]
    }
   ],
   "source": [
    "print(len(df),len(train_df),len(test_df))"
   ]
  },
  {
   "cell_type": "code",
   "execution_count": 17,
   "metadata": {},
   "outputs": [],
   "source": [
    "def train_lda(data):\n",
    "    \"\"\"\n",
    "    This function trains the lda model\n",
    "    We setup parameters like number of topics, the chunksize to use in Hoffman method\n",
    "    We also do 2 passes of the data since this is a small dataset, so we want the distributions to stabilize\n",
    "    \"\"\"\n",
    "    num_topics = 50\n",
    "    chunksize = 300\n",
    "    dictionary = corpora.Dictionary(data['tokenized'])\n",
    "    corpus = [dictionary.doc2bow(doc) for doc in data['tokenized']]\n",
    "    t1 = time.time()\n",
    "    # low alpha means each document is only represented by a small number of topics, and vice versa\n",
    "    # low eta means each topic is only represented by a small number of words, and vice versa\n",
    "    lda = LdaModel(corpus=corpus, num_topics=num_topics, id2word=dictionary,\n",
    "                   alpha=1e-2, eta=0.5e-2, chunksize=chunksize, minimum_probability=0.0, passes=2)\n",
    "    t2 = time.time()\n",
    "    \n",
    "    print(\"Time to train LDA model on \", len(df), \"articles: \", (t2-t1)/60, \"min\")\n",
    "    return dictionary,corpus,lda"
   ]
  },
  {
   "cell_type": "code",
   "execution_count": 18,
   "metadata": {},
   "outputs": [
    {
     "name": "stderr",
     "output_type": "stream",
     "text": [
      "/usr/local/lib/python3.6/site-packages/gensim/models/ldamodel.py:775: RuntimeWarning: divide by zero encountered in log\n",
      "  diff = np.log(self.expElogbeta)\n"
     ]
    },
    {
     "name": "stdout",
     "output_type": "stream",
     "text": [
      "Time to train LDA model on  10812 articles:  0.7219852328300476 min\n"
     ]
    }
   ],
   "source": [
    "dictionary,corpus,lda = train_lda(train_df)"
   ]
  },
  {
   "cell_type": "code",
   "execution_count": 39,
   "metadata": {},
   "outputs": [
    {
     "data": {
      "text/plain": [
       "[(0,\n",
       "  '0.022*\"law\" + 0.016*\"govern\" + 0.010*\"court\" + 0.010*\"feder\" + 0.009*\"use\" + 0.009*\"public\" + 0.008*\"act\" + 0.008*\"state\" + 0.007*\"case\" + 0.007*\"constitut\" + 0.006*\"offic\" + 0.006*\"depart\" + 0.006*\"inform\" + 0.006*\"agenc\" + 0.006*\"order\" + 0.006*\"legal\" + 0.006*\"justic\" + 0.005*\"issu\" + 0.005*\"right\" + 0.005*\"document\"'),\n",
       " (1,\n",
       "  '0.011*\"dr\" + 0.010*\"vaccin\" + 0.008*\"medic\" + 0.008*\"use\" + 0.008*\"drug\" + 0.007*\"doctor\" + 0.007*\"mani\" + 0.007*\"one\" + 0.005*\"children\" + 0.005*\"peopl\" + 0.005*\"studi\" + 0.005*\"effect\" + 0.005*\"even\" + 0.004*\"cdc\" + 0.004*\"industri\" + 0.004*\"research\" + 0.004*\"patient\" + 0.004*\"posit\" + 0.004*\"scienc\" + 0.004*\"death\"'),\n",
       " (2,\n",
       "  '0.118*\"muslim\" + 0.079*\"islam\" + 0.068*\"turkey\" + 0.037*\"turkish\" + 0.025*\"erdogan\" + 0.019*\"email\" + 0.015*\"click\" + 0.013*\"address\" + 0.013*\"read\" + 0.013*\"terror\" + 0.013*\"copyright\" + 0.011*\"use\" + 0.011*\"jihad\" + 0.011*\"terrorist\" + 0.010*\"list\" + 0.010*\"name\" + 0.010*\"join\" + 0.009*\"galacticconnectioncom\" + 0.009*\"permiss\" + 0.009*\"seeker\"'),\n",
       " (3,\n",
       "  '0.068*\"god\" + 0.052*\"christian\" + 0.042*\"church\" + 0.021*\"jesu\" + 0.021*\"year\" + 0.014*\"christ\" + 0.014*\"religion\" + 0.014*\"lord\" + 0.013*\"religi\" + 0.013*\"bibl\" + 0.013*\"faith\" + 0.010*\"penc\" + 0.010*\"satan\" + 0.009*\"shall\" + 0.009*\"day\" + 0.009*\"heaven\" + 0.008*\"believ\" + 0.008*\"abort\" + 0.008*\"last\" + 0.008*\"end\"'),\n",
       " (4,\n",
       "  '0.039*\"us\" + 0.037*\"syria\" + 0.028*\"syrian\" + 0.022*\"war\" + 0.018*\"terrorist\" + 0.018*\"attack\" + 0.015*\"govern\" + 0.014*\"aleppo\" + 0.013*\"civilian\" + 0.012*\"militari\" + 0.011*\"bomb\" + 0.009*\"kill\" + 0.009*\"forc\" + 0.008*\"iraq\" + 0.008*\"assad\" + 0.008*\"terror\" + 0.007*\"group\" + 0.007*\"rebel\" + 0.007*\"weapon\" + 0.007*\"support\"'),\n",
       " (5,\n",
       "  '0.066*\"water\" + 0.031*\"food\" + 0.029*\"oil\" + 0.022*\"plant\" + 0.016*\"energi\" + 0.016*\"product\" + 0.013*\"anim\" + 0.013*\"use\" + 0.013*\"organ\" + 0.013*\"industri\" + 0.013*\"natur\" + 0.011*\"ga\" + 0.011*\"produc\" + 0.010*\"environment\" + 0.010*\"suppli\" + 0.010*\"grow\" + 0.010*\"compani\" + 0.010*\"pollut\" + 0.010*\"clean\" + 0.009*\"farm\"'),\n",
       " (6,\n",
       "  '0.027*\"militari\" + 0.025*\"forc\" + 0.015*\"air\" + 0.015*\"missil\" + 0.014*\"oper\" + 0.013*\"armi\" + 0.011*\"defens\" + 0.009*\"base\" + 0.009*\"sea\" + 0.009*\"gener\" + 0.008*\"navi\" + 0.008*\"system\" + 0.008*\"aircraft\" + 0.008*\"admir\" + 0.008*\"deploy\" + 0.007*\"report\" + 0.007*\"launch\" + 0.007*\"ship\" + 0.007*\"train\" + 0.007*\"radar\"'),\n",
       " (7,\n",
       "  '0.265*\"mr\" + 0.110*\"china\" + 0.075*\"chines\" + 0.038*\"michel\" + 0.034*\"hotel\" + 0.027*\"first\" + 0.027*\"meet\" + 0.017*\"talk\" + 0.016*\"new\" + 0.016*\"ladi\" + 0.014*\"open\" + 0.012*\"rant\" + 0.012*\"radio\" + 0.011*\"presid\" + 0.010*\"visit\" + 0.010*\"metro\" + 0.009*\"york\" + 0.009*\"laura\" + 0.008*\"room\" + 0.007*\"music\"'),\n",
       " (8,\n",
       "  '0.030*\"women\" + 0.013*\"men\" + 0.013*\"said\" + 0.013*\"woman\" + 0.012*\"sexual\" + 0.011*\"famili\" + 0.011*\"girl\" + 0.009*\"man\" + 0.009*\"children\" + 0.009*\"say\" + 0.009*\"sex\" + 0.008*\"one\" + 0.008*\"rape\" + 0.008*\"death\" + 0.007*\"told\" + 0.007*\"father\" + 0.007*\"life\" + 0.007*\"young\" + 0.006*\"child\" + 0.006*\"victim\"'),\n",
       " (9,\n",
       "  '0.022*\"human\" + 0.016*\"world\" + 0.012*\"life\" + 0.012*\"us\" + 0.011*\"energi\" + 0.010*\"power\" + 0.010*\"light\" + 0.008*\"new\" + 0.008*\"creat\" + 0.008*\"mind\" + 0.007*\"peopl\" + 0.007*\"live\" + 0.007*\"bodi\" + 0.007*\"love\" + 0.006*\"earth\" + 0.006*\"conscious\" + 0.006*\"one\" + 0.006*\"person\" + 0.006*\"feel\" + 0.006*\"ufo\"'),\n",
       " (10,\n",
       "  '0.025*\"news\" + 0.022*\"facebook\" + 0.013*\"show\" + 0.013*\"media\" + 0.012*\"inform\" + 0.012*\"network\" + 0.011*\"websit\" + 0.011*\"donat\" + 0.011*\"site\" + 0.010*\"googl\" + 0.010*\"page\" + 0.009*\"twitter\" + 0.009*\"post\" + 0.009*\"help\" + 0.008*\"social\" + 0.008*\"click\" + 0.008*\"imag\" + 0.008*\"internet\" + 0.008*\"support\" + 0.007*\"stori\"'),\n",
       " (11,\n",
       "  '0.019*\"go\" + 0.017*\"peopl\" + 0.016*\"like\" + 0.015*\"get\" + 0.014*\"know\" + 0.014*\"dont\" + 0.012*\"one\" + 0.012*\"think\" + 0.012*\"thing\" + 0.012*\"want\" + 0.011*\"make\" + 0.010*\"would\" + 0.010*\"time\" + 0.010*\"say\" + 0.009*\"way\" + 0.008*\"need\" + 0.008*\"see\" + 0.007*\"realli\" + 0.007*\"come\" + 0.007*\"take\"'),\n",
       " (12,\n",
       "  '0.079*\"drill\" + 0.053*\"advertis\" + 0.049*\"licens\" + 0.045*\"art\" + 0.041*\"greek\" + 0.032*\"edward\" + 0.032*\"boundari\" + 0.029*\"ghost\" + 0.024*\"writer\" + 0.022*\"artist\" + 0.021*\"creativ\" + 0.020*\"brooklyn\" + 0.020*\"nyc\" + 0.019*\"exhibit\" + 0.018*\"photograph\" + 0.018*\"cartoon\" + 0.017*\"th\" + 0.016*\"er\" + 0.015*\"terrifi\" + 0.015*\"herald\"'),\n",
       " (13,\n",
       "  '0.057*\"obama\" + 0.024*\"presid\" + 0.021*\"democrat\" + 0.020*\"white\" + 0.017*\"parti\" + 0.016*\"hous\" + 0.009*\"american\" + 0.008*\"administr\" + 0.008*\"new\" + 0.008*\"republican\" + 0.007*\"us\" + 0.007*\"sander\" + 0.006*\"like\" + 0.006*\"barack\" + 0.006*\"senat\" + 0.006*\"hillari\" + 0.005*\"street\" + 0.005*\"congress\" + 0.005*\"nation\" + 0.005*\"progress\"'),\n",
       " (14,\n",
       "  '0.039*\"war\" + 0.024*\"world\" + 0.021*\"america\" + 0.016*\"american\" + 0.014*\"us\" + 0.011*\"nation\" + 0.010*\"histori\" + 0.008*\"lie\" + 0.007*\"murder\" + 0.006*\"militari\" + 0.006*\"peopl\" + 0.006*\"end\" + 0.006*\"year\" + 0.006*\"order\" + 0.005*\"death\" + 0.005*\"empir\" + 0.005*\"ii\" + 0.005*\"destroy\" + 0.005*\"bush\" + 0.004*\"patriot\"'),\n",
       " (15,\n",
       "  '0.027*\"nuclear\" + 0.019*\"countri\" + 0.019*\"saudi\" + 0.015*\"agreement\" + 0.014*\"trade\" + 0.012*\"region\" + 0.011*\"state\" + 0.011*\"would\" + 0.011*\"foreign\" + 0.010*\"weapon\" + 0.010*\"un\" + 0.010*\"arabia\" + 0.010*\"korea\" + 0.010*\"econom\" + 0.010*\"south\" + 0.010*\"china\" + 0.009*\"intern\" + 0.009*\"us\" + 0.009*\"north\" + 0.008*\"polici\"'),\n",
       " (16,\n",
       "  '0.026*\"research\" + 0.017*\"scientist\" + 0.016*\"climat\" + 0.015*\"studi\" + 0.014*\"scienc\" + 0.013*\"evid\" + 0.012*\"year\" + 0.012*\"bundi\" + 0.012*\"report\" + 0.011*\"theori\" + 0.011*\"chang\" + 0.010*\"found\" + 0.010*\"case\" + 0.009*\"conspiraci\" + 0.009*\"professor\" + 0.009*\"univers\" + 0.008*\"juri\" + 0.008*\"sourc\" + 0.008*\"global\" + 0.008*\"trial\"'),\n",
       " (17,\n",
       "  '0.031*\"octob\" + 0.020*\"said\" + 0.020*\"letter\" + 0.018*\"news\" + 0.016*\"comey\" + 0.015*\"elect\" + 0.015*\"director\" + 0.015*\"report\" + 0.011*\"announc\" + 0.011*\"jame\" + 0.011*\"new\" + 0.011*\"fox\" + 0.011*\"post\" + 0.010*\"tweet\" + 0.010*\"day\" + 0.009*\"cnn\" + 0.009*\"steven\" + 0.008*\"decis\" + 0.008*\"senat\" + 0.008*\"twitter\"'),\n",
       " (18,\n",
       "  '0.025*\"war\" + 0.022*\"us\" + 0.018*\"clinton\" + 0.016*\"state\" + 0.014*\"hillari\" + 0.014*\"polici\" + 0.013*\"would\" + 0.011*\"american\" + 0.010*\"assang\" + 0.009*\"russia\" + 0.008*\"washington\" + 0.008*\"foreign\" + 0.008*\"libya\" + 0.008*\"trump\" + 0.007*\"support\" + 0.007*\"syria\" + 0.007*\"presid\" + 0.007*\"establish\" + 0.007*\"iraq\" + 0.007*\"govern\"'),\n",
       " (19,\n",
       "  '0.055*\"media\" + 0.016*\"mainstream\" + 0.015*\"news\" + 0.013*\"post\" + 0.012*\"public\" + 0.010*\"journalist\" + 0.009*\"truth\" + 0.009*\"propaganda\" + 0.008*\"fake\" + 0.008*\"fact\" + 0.008*\"report\" + 0.008*\"lie\" + 0.008*\"elect\" + 0.008*\"stori\" + 0.006*\"even\" + 0.006*\"time\" + 0.006*\"washington\" + 0.006*\"press\" + 0.006*\"inform\" + 0.006*\"fals\"'),\n",
       " (20,\n",
       "  '0.038*\"israel\" + 0.017*\"palestinian\" + 0.016*\"isra\" + 0.013*\"arab\" + 0.012*\"soro\" + 0.011*\"isi\" + 0.010*\"east\" + 0.009*\"resolut\" + 0.009*\"state\" + 0.008*\"west\" + 0.008*\"al\" + 0.007*\"palestin\" + 0.007*\"group\" + 0.007*\"jerusalem\" + 0.007*\"islam\" + 0.007*\"hama\" + 0.006*\"year\" + 0.006*\"support\" + 0.006*\"gaza\" + 0.006*\"un\"'),\n",
       " (21,\n",
       "  '0.011*\"could\" + 0.010*\"earth\" + 0.009*\"sun\" + 0.009*\"would\" + 0.008*\"time\" + 0.007*\"space\" + 0.007*\"one\" + 0.007*\"light\" + 0.007*\"solar\" + 0.007*\"planet\" + 0.006*\"power\" + 0.006*\"event\" + 0.006*\"electr\" + 0.006*\"like\" + 0.005*\"year\" + 0.005*\"ancient\" + 0.005*\"around\" + 0.005*\"look\" + 0.005*\"mysteri\" + 0.004*\"weather\"'),\n",
       " (22,\n",
       "  '0.031*\"state\" + 0.029*\"california\" + 0.018*\"obamacar\" + 0.015*\"health\" + 0.013*\"plan\" + 0.012*\"insur\" + 0.011*\"arizona\" + 0.010*\"green\" + 0.008*\"care\" + 0.008*\"johnson\" + 0.007*\"healthcar\" + 0.007*\"premium\" + 0.007*\"michigan\" + 0.007*\"peopl\" + 0.006*\"afford\" + 0.006*\"law\" + 0.005*\"would\" + 0.005*\"american\" + 0.005*\"cost\" + 0.005*\"detroit\"'),\n",
       " (23,\n",
       "  '0.036*\"pipelin\" + 0.030*\"stand\" + 0.027*\"dakota\" + 0.022*\"rock\" + 0.021*\"protest\" + 0.017*\"land\" + 0.016*\"access\" + 0.015*\"north\" + 0.014*\"water\" + 0.013*\"nativ\" + 0.011*\"polic\" + 0.010*\"sioux\" + 0.010*\"camp\" + 0.010*\"peopl\" + 0.010*\"protector\" + 0.010*\"tribe\" + 0.008*\"state\" + 0.008*\"construct\" + 0.008*\"law\" + 0.008*\"arrest\"'),\n",
       " (24,\n",
       "  '0.048*\"citi\" + 0.031*\"mosul\" + 0.022*\"said\" + 0.020*\"iraqi\" + 0.018*\"forc\" + 0.014*\"villag\" + 0.013*\"kill\" + 0.013*\"town\" + 0.012*\"isi\" + 0.012*\"earthquak\" + 0.012*\"report\" + 0.012*\"itali\" + 0.011*\"iraq\" + 0.011*\"area\" + 0.010*\"two\" + 0.009*\"oper\" + 0.009*\"region\" + 0.009*\"daesh\" + 0.009*\"fighter\" + 0.009*\"african\"'),\n",
       " (25,\n",
       "  '0.186*\"jewish\" + 0.178*\"jew\" + 0.071*\"dog\" + 0.069*\"moor\" + 0.041*\"michael\" + 0.030*\"zionist\" + 0.021*\"israel\" + 0.016*\"settler\" + 0.016*\"million\" + 0.013*\"david\" + 0.012*\"atheist\" + 0.010*\"camp\" + 0.010*\"claim\" + 0.010*\"zionism\" + 0.010*\"order\" + 0.010*\"exodu\" + 0.009*\"antagon\" + 0.009*\"dismay\" + 0.009*\"commun\" + 0.009*\"barn\"'),\n",
       " (26,\n",
       "  '0.054*\"polic\" + 0.032*\"protest\" + 0.030*\"offic\" + 0.025*\"black\" + 0.020*\"violenc\" + 0.019*\"gun\" + 0.015*\"fire\" + 0.011*\"shoot\" + 0.011*\"peopl\" + 0.011*\"shot\" + 0.011*\"car\" + 0.010*\"kill\" + 0.009*\"said\" + 0.009*\"attack\" + 0.008*\"video\" + 0.008*\"cop\" + 0.008*\"one\" + 0.007*\"report\" + 0.007*\"use\" + 0.007*\"arm\"'),\n",
       " (27,\n",
       "  '0.014*\"health\" + 0.014*\"use\" + 0.013*\"food\" + 0.011*\"also\" + 0.010*\"cancer\" + 0.009*\"bodi\" + 0.009*\"diseas\" + 0.008*\"effect\" + 0.008*\"one\" + 0.008*\"help\" + 0.008*\"may\" + 0.007*\"studi\" + 0.007*\"caus\" + 0.006*\"eat\" + 0.006*\"vitamin\" + 0.006*\"brain\" + 0.006*\"level\" + 0.005*\"increas\" + 0.005*\"make\" + 0.005*\"cell\"'),\n",
       " (28,\n",
       "  '0.011*\"man\" + 0.008*\"back\" + 0.008*\"one\" + 0.007*\"white\" + 0.006*\"night\" + 0.006*\"like\" + 0.006*\"get\" + 0.006*\"face\" + 0.005*\"walk\" + 0.005*\"time\" + 0.005*\"day\" + 0.005*\"show\" + 0.005*\"black\" + 0.005*\"watch\" + 0.005*\"around\" + 0.005*\"halloween\" + 0.004*\"film\" + 0.004*\"hous\" + 0.004*\"call\" + 0.004*\"look\"'),\n",
       " (29,\n",
       "  '0.027*\"gold\" + 0.017*\"world\" + 0.016*\"market\" + 0.013*\"trade\" + 0.012*\"india\" + 0.010*\"silver\" + 0.009*\"indian\" + 0.008*\"new\" + 0.008*\"stock\" + 0.007*\"king\" + 0.007*\"also\" + 0.007*\"move\" + 0.006*\"global\" + 0.006*\"import\" + 0.006*\"year\" + 0.006*\"predict\" + 0.005*\"today\" + 0.005*\"would\" + 0.005*\"see\" + 0.005*\"one\"'),\n",
       " (30,\n",
       "  '0.101*\"russia\" + 0.076*\"russian\" + 0.034*\"putin\" + 0.029*\"us\" + 0.022*\"nato\" + 0.016*\"said\" + 0.013*\"moscow\" + 0.011*\"war\" + 0.010*\"vladimir\" + 0.008*\"syria\" + 0.007*\"nuclear\" + 0.007*\"militari\" + 0.006*\"west\" + 0.006*\"countri\" + 0.006*\"border\" + 0.006*\"europ\" + 0.006*\"would\" + 0.005*\"could\" + 0.005*\"relat\" + 0.005*\"world\"'),\n",
       " (31,\n",
       "  '0.043*\"right\" + 0.033*\"fight\" + 0.029*\"movement\" + 0.026*\"speech\" + 0.022*\"human\" + 0.021*\"break\" + 0.020*\"support\" + 0.019*\"help\" + 0.017*\"ami\" + 0.017*\"twitter\" + 0.015*\"pac\" + 0.014*\"facebook\" + 0.014*\"tim\" + 0.014*\"throne\" + 0.013*\"us\" + 0.013*\"bia\" + 0.013*\"video\" + 0.012*\"liber\" + 0.012*\"organ\" + 0.012*\"super\"'),\n",
       " (32,\n",
       "  '0.015*\"us\" + 0.013*\"plane\" + 0.010*\"island\" + 0.010*\"new\" + 0.010*\"philippin\" + 0.008*\"flight\" + 0.008*\"fli\" + 0.007*\"dutert\" + 0.006*\"south\" + 0.006*\"airport\" + 0.006*\"visit\" + 0.006*\"korean\" + 0.006*\"flare\" + 0.006*\"australia\" + 0.005*\"pilot\" + 0.005*\"reach\" + 0.005*\"zone\" + 0.005*\"land\" + 0.005*\"object\" + 0.005*\"jet\"'),\n",
       " (33,\n",
       "  '0.214*\"iran\" + 0.064*\"iranian\" + 0.055*\"biden\" + 0.045*\"soldier\" + 0.026*\"tehran\" + 0.026*\"guard\" + 0.015*\"renam\" + 0.014*\"islam\" + 0.013*\"joe\" + 0.012*\"persian\" + 0.012*\"republ\" + 0.012*\"deal\" + 0.011*\"cleric\" + 0.010*\"terror\" + 0.010*\"confeder\" + 0.009*\"rifl\" + 0.009*\"sanction\" + 0.009*\"enemi\" + 0.009*\"ali\" + 0.008*\"team\"'),\n",
       " (34,\n",
       "  '0.112*\"trump\" + 0.036*\"clinton\" + 0.031*\"donald\" + 0.029*\"hillari\" + 0.027*\"elect\" + 0.014*\"campaign\" + 0.013*\"support\" + 0.013*\"presid\" + 0.011*\"republican\" + 0.011*\"win\" + 0.011*\"candid\" + 0.010*\"presidenti\" + 0.009*\"democrat\" + 0.008*\"vote\" + 0.008*\"american\" + 0.008*\"said\" + 0.007*\"would\" + 0.006*\"polit\" + 0.006*\"say\" + 0.005*\"go\"'),\n",
       " (35,\n",
       "  '0.048*\"comment\" + 0.038*\"result\" + 0.036*\"text\" + 0.032*\"line\" + 0.030*\"quot\" + 0.022*\"anonym\" + 0.021*\"block\" + 0.020*\"name\" + 0.019*\"format\" + 0.017*\"need\" + 0.017*\"use\" + 0.016*\"code\" + 0.016*\"like\" + 0.015*\"pleas\" + 0.014*\"appear\" + 0.013*\"leav\" + 0.013*\"link\" + 0.012*\"mark\" + 0.012*\"check\" + 0.011*\"repli\"'),\n",
       " (36,\n",
       "  '0.046*\"campaign\" + 0.037*\"podesta\" + 0.037*\"email\" + 0.034*\"clinton\" + 0.031*\"wikileak\" + 0.020*\"john\" + 0.012*\"leak\" + 0.011*\"reveal\" + 0.011*\"releas\" + 0.008*\"bill\" + 0.008*\"kadzik\" + 0.008*\"brazil\" + 0.007*\"wrote\" + 0.007*\"dnc\" + 0.007*\"meet\" + 0.007*\"donor\" + 0.007*\"chairman\" + 0.007*\"hillari\" + 0.006*\"report\" + 0.006*\"also\"'),\n",
       " (37,\n",
       "  '0.057*\"video\" + 0.021*\"babi\" + 0.020*\"children\" + 0.017*\"parent\" + 0.015*\"project\" + 0.014*\"kid\" + 0.013*\"child\" + 0.012*\"phone\" + 0.011*\"daili\" + 0.011*\"verita\" + 0.010*\"birth\" + 0.010*\"call\" + 0.008*\"famili\" + 0.008*\"mother\" + 0.008*\"youtub\" + 0.007*\"sheepl\" + 0.007*\"releas\" + 0.007*\"go\" + 0.006*\"get\" + 0.006*\"share\"'),\n",
       " (38,\n",
       "  '0.035*\"uk\" + 0.035*\"british\" + 0.030*\"britain\" + 0.029*\"eu\" + 0.028*\"european\" + 0.023*\"brexit\" + 0.021*\"minist\" + 0.019*\"said\" + 0.016*\"prime\" + 0.015*\"europ\" + 0.014*\"london\" + 0.013*\"parliament\" + 0.012*\"parti\" + 0.011*\"may\" + 0.011*\"would\" + 0.011*\"govern\" + 0.009*\"referendum\" + 0.009*\"bbc\" + 0.009*\"novemb\" + 0.007*\"say\"'),\n",
       " (39,\n",
       "  '0.020*\"bank\" + 0.016*\"money\" + 0.014*\"market\" + 0.012*\"financi\" + 0.012*\"dollar\" + 0.011*\"economi\" + 0.011*\"us\" + 0.011*\"price\" + 0.010*\"econom\" + 0.010*\"year\" + 0.010*\"gold\" + 0.008*\"govern\" + 0.008*\"debt\" + 0.008*\"system\" + 0.007*\"billion\" + 0.007*\"rate\" + 0.006*\"currenc\" + 0.006*\"compani\" + 0.006*\"global\" + 0.005*\"busi\"'),\n",
       " (40,\n",
       "  '0.038*\"veteran\" + 0.020*\"post\" + 0.018*\"american\" + 0.016*\"oligarchi\" + 0.014*\"view\" + 0.013*\"joe\" + 0.012*\"novemb\" + 0.011*\"comment\" + 0.011*\"robert\" + 0.011*\"bannon\" + 0.011*\"us\" + 0.010*\"media\" + 0.010*\"respons\" + 0.009*\"author\" + 0.009*\"relat\" + 0.009*\"read\" + 0.008*\"craig\" + 0.008*\"presstitut\" + 0.007*\"serv\" + 0.007*\"paul\"'),\n",
       " (41,\n",
       "  '0.020*\"million\" + 0.018*\"work\" + 0.015*\"school\" + 0.013*\"job\" + 0.013*\"tax\" + 0.012*\"state\" + 0.011*\"pay\" + 0.009*\"year\" + 0.009*\"money\" + 0.008*\"busi\" + 0.008*\"educ\" + 0.008*\"student\" + 0.008*\"worker\" + 0.008*\"fund\" + 0.007*\"corpor\" + 0.007*\"govern\" + 0.007*\"american\" + 0.006*\"countri\" + 0.006*\"servic\" + 0.006*\"famili\"'),\n",
       " (42,\n",
       "  '0.031*\"retir\" + 0.025*\"us\" + 0.017*\"gener\" + 0.016*\"ryan\" + 0.013*\"paul\" + 0.012*\"brown\" + 0.012*\"said\" + 0.011*\"warren\" + 0.009*\"secret\" + 0.009*\"jr\" + 0.009*\"evangel\" + 0.008*\"john\" + 0.008*\"smith\" + 0.007*\"coward\" + 0.007*\"rear\" + 0.007*\"robert\" + 0.007*\"christma\" + 0.006*\"texa\" + 0.006*\"hed\" + 0.006*\"william\"'),\n",
       " (43,\n",
       "  '0.060*\"percent\" + 0.020*\"year\" + 0.018*\"report\" + 0.015*\"new\" + 0.014*\"number\" + 0.014*\"american\" + 0.013*\"day\" + 0.013*\"rate\" + 0.012*\"data\" + 0.011*\"last\" + 0.011*\"nation\" + 0.011*\"increas\" + 0.010*\"state\" + 0.010*\"point\" + 0.010*\"time\" + 0.009*\"averag\" + 0.009*\"lead\" + 0.008*\"among\" + 0.008*\"novemb\" + 0.008*\"month\"'),\n",
       " (44,\n",
       "  '0.028*\"state\" + 0.018*\"presid\" + 0.015*\"us\" + 0.015*\"unit\" + 0.013*\"nation\" + 0.012*\"polit\" + 0.011*\"govern\" + 0.011*\"secur\" + 0.009*\"ukrain\" + 0.009*\"intern\" + 0.009*\"foreign\" + 0.009*\"power\" + 0.008*\"countri\" + 0.007*\"interest\" + 0.006*\"also\" + 0.006*\"polici\" + 0.006*\"relat\" + 0.006*\"american\" + 0.006*\"elect\" + 0.006*\"threat\"'),\n",
       " (45,\n",
       "  '0.027*\"immigr\" + 0.021*\"refuge\" + 0.019*\"said\" + 0.018*\"border\" + 0.017*\"illeg\" + 0.015*\"countri\" + 0.014*\"migrant\" + 0.013*\"camp\" + 0.012*\"franc\" + 0.011*\"french\" + 0.009*\"germani\" + 0.009*\"german\" + 0.008*\"wall\" + 0.007*\"cross\" + 0.007*\"citi\" + 0.007*\"mani\" + 0.006*\"children\" + 0.006*\"report\" + 0.006*\"alien\" + 0.006*\"peopl\"'),\n",
       " (46,\n",
       "  '0.071*\"clinton\" + 0.040*\"fbi\" + 0.035*\"hillari\" + 0.034*\"email\" + 0.027*\"investig\" + 0.014*\"comey\" + 0.010*\"foundat\" + 0.008*\"server\" + 0.008*\"depart\" + 0.007*\"inform\" + 0.007*\"state\" + 0.007*\"agent\" + 0.006*\"new\" + 0.006*\"said\" + 0.006*\"weiner\" + 0.006*\"privat\" + 0.006*\"would\" + 0.006*\"abedin\" + 0.005*\"director\" + 0.005*\"justic\"'),\n",
       " (47,\n",
       "  '0.016*\"peopl\" + 0.011*\"polit\" + 0.007*\"one\" + 0.006*\"right\" + 0.006*\"american\" + 0.006*\"mani\" + 0.005*\"social\" + 0.005*\"power\" + 0.005*\"even\" + 0.005*\"countri\" + 0.004*\"like\" + 0.004*\"cultur\" + 0.004*\"america\" + 0.004*\"movement\" + 0.004*\"way\" + 0.004*\"societi\" + 0.004*\"liber\" + 0.004*\"world\" + 0.004*\"nation\" + 0.004*\"must\"'),\n",
       " (48,\n",
       "  '0.124*\"vote\" + 0.075*\"elect\" + 0.047*\"voter\" + 0.035*\"state\" + 0.021*\"poll\" + 0.020*\"elector\" + 0.019*\"ballot\" + 0.017*\"fraud\" + 0.017*\"machin\" + 0.014*\"democrat\" + 0.011*\"rig\" + 0.010*\"counti\" + 0.009*\"cast\" + 0.008*\"count\" + 0.008*\"report\" + 0.008*\"republican\" + 0.008*\"earli\" + 0.008*\"system\" + 0.007*\"texa\" + 0.007*\"candid\"'),\n",
       " (49,\n",
       "  '0.038*\"prison\" + 0.037*\"charg\" + 0.033*\"crime\" + 0.030*\"crimin\" + 0.028*\"arrest\" + 0.026*\"case\" + 0.021*\"state\" + 0.019*\"court\" + 0.018*\"said\" + 0.017*\"feder\" + 0.017*\"jail\" + 0.017*\"attorney\" + 0.015*\"legal\" + 0.013*\"marijuana\" + 0.012*\"report\" + 0.012*\"prosecut\" + 0.011*\"convict\" + 0.010*\"defend\" + 0.010*\"sentenc\" + 0.009*\"william\"')]"
      ]
     },
     "execution_count": 39,
     "metadata": {},
     "output_type": "execute_result"
    }
   ],
   "source": [
    "# show_topics method shows the the top num_words contributing to num_topics number of random topics\n",
    "lda.show_topics(num_topics=50, num_words=20)\n"
   ]
  },
  {
   "cell_type": "code",
   "execution_count": 23,
   "metadata": {},
   "outputs": [
    {
     "data": {
      "text/plain": [
       "[('us', 0.014802029),\n",
       " ('plane', 0.012596404),\n",
       " ('island', 0.010343882),\n",
       " ('new', 0.010329306),\n",
       " ('philippin', 0.009809174),\n",
       " ('flight', 0.008102482),\n",
       " ('fli', 0.0080610765),\n",
       " ('dutert', 0.0069332095),\n",
       " ('south', 0.0064959833),\n",
       " ('airport', 0.006170847),\n",
       " ('visit', 0.006146044),\n",
       " ('korean', 0.005940869),\n",
       " ('flare', 0.00572485),\n",
       " ('australia', 0.0057240706),\n",
       " ('pilot', 0.005497682),\n",
       " ('reach', 0.0053160815),\n",
       " ('zone', 0.0049532754),\n",
       " ('land', 0.0048579215),\n",
       " ('object', 0.004800635),\n",
       " ('jet', 0.004737804)]"
      ]
     },
     "execution_count": 23,
     "metadata": {},
     "output_type": "execute_result"
    }
   ],
   "source": [
    "lda.show_topic(topicid=32, topn=20)"
   ]
  },
  {
   "cell_type": "code",
   "execution_count": 24,
   "metadata": {},
   "outputs": [
    {
     "name": "stdout",
     "output_type": "stream",
     "text": [
      "10\n",
      "[10800]\n",
      "[12]\n"
     ]
    }
   ],
   "source": [
    "\n",
    "random_article_index = np.random.randint(len(train_df))\n",
    "random_article_index = 10\n",
    "bow = dictionary.doc2bow(train_df.iloc[random_article_index,7])\n",
    "\n",
    "print(random_article_index)\n",
    "list_topic_train=[len(train_df)]\n",
    "print (list_topic_train)\n",
    "\n",
    "list_topic_test=[len(test_df)]\n",
    "print (list_topic_test)"
   ]
  },
  {
   "cell_type": "code",
   "execution_count": 25,
   "metadata": {},
   "outputs": [
    {
     "name": "stdout",
     "output_type": "stream",
     "text": [
      "[10800, 46, 34, 5, 32, 20, 46, 14, 49, 11, 14, 10, 39, 47, 5, 28, 47, 47, 20, 0, 34, 41, 18, 34, 18, 34, 16, 47, 45, 47, 6, 34, 4, 46, 39, 45, 8, 34, 4, 11, 28, 14, 47, 8, 15, 0, 30, 9, 36, 27, 47, 21, 10, 46, 11, 28, 1, 28, 13, 29, 47, 47, 2, 11, 47, 2, 47, 34, 23, 34, 48, 21, 11, 38, 34, 12, 39, 27, 4, 39, 39, 42, 34, 14, 42, 20, 35, 21, 0, 12, 4, 40, 11, 46, 46, 46, 28, 34, 20, 24, 46, 29, 21, 46, 14, 15, 2, 39, 4, 43, 9, 44, 30, 3, 34, 6, 48, 23, 49, 29, 43, 45, 4, 46, 28, 39, 34, 5, 18, 43, 9, 47, 8, 0, 11, 39, 34, 28, 9, 34, 34, 28, 27, 11, 28, 11, 23, 24, 24, 46, 34, 11, 4, 14, 0, 43, 36, 34, 10, 34, 27, 34, 46, 47, 34, 9, 28, 26, 8, 46, 34, 23, 46, 11, 46, 34, 23, 0, 1, 27, 16, 37, 28, 46, 48, 46, 21, 28, 36, 11, 11, 46, 28, 34, 44, 0, 1, 13, 43, 46, 39, 39, 26, 39, 34, 45, 1, 27, 24, 34, 0, 47, 8, 11, 36, 34, 11, 18, 16, 14, 11, 9, 8, 34, 13, 11, 34, 0, 2, 3, 30, 13, 19, 24, 34, 11, 11, 47, 4, 34, 9, 46, 9, 39, 48, 26, 0, 11, 46, 41, 37, 9, 44, 47, 8, 12, 34, 1, 28, 45, 48, 11, 1, 36, 46, 4, 34, 34, 0, 47, 11, 23, 1, 48, 24, 42, 20, 4, 46, 38, 34, 22, 34, 17, 18, 47, 11, 43, 6, 11, 13, 43, 11, 21, 27, 4, 47, 11, 39, 8, 34, 46, 11, 47, 41, 11, 47, 34, 46, 34, 11, 0, 0, 28, 11, 4, 45, 4, 0, 28, 28, 47, 15, 44, 4, 11, 11, 47, 34, 6, 11, 45, 18, 46, 17, 46, 27, 30, 1, 29, 9, 45, 47, 47, 16, 39, 8, 39, 29, 4, 0, 36, 37, 11, 39, 4, 11, 11, 34, 46, 27, 10, 0, 34, 32, 47, 29, 17, 28, 23, 46, 11, 11, 47, 31, 46, 47, 9, 4, 47, 0, 28, 9, 34, 16, 30, 30, 23, 11, 4, 4, 17, 34, 34, 4, 28, 34, 47, 23, 27, 11, 11, 34, 0, 30, 39, 24, 47, 45, 47, 11, 11, 29, 30, 8, 39, 11, 20, 34, 47, 46, 30, 6, 18, 40, 49, 16, 1, 34, 46, 21, 11, 39, 43, 34, 21, 47, 10, 34, 46, 10, 11, 28, 26, 36, 9, 3, 4, 46, 47, 35, 46, 1, 44, 0, 48, 10, 11, 34, 39, 11, 44, 6, 46, 14, 46, 20, 34, 28, 17, 28, 4, 4, 11, 34, 44, 20, 37, 36, 37, 41, 34, 4, 34, 11, 11, 0, 47, 46, 11, 47, 11, 24, 30, 8, 13, 11, 10, 11, 46, 28, 22, 44, 34, 34, 23, 7, 34, 46, 10, 0, 15, 44, 8, 24, 26, 18, 47, 30, 43, 13, 39, 11, 24, 13, 8, 5, 10, 8, 23, 39, 11, 18, 23, 44, 23, 4, 41, 27, 20, 18, 9, 20, 8, 47, 21, 46, 34, 35, 19, 47, 40, 13, 24, 46, 28, 34, 9, 44, 21, 43, 47, 19, 14, 34, 34, 6, 4, 46, 46, 11, 37, 11, 45, 46, 11, 11, 28, 8, 30, 4, 34, 4, 48, 0, 23, 0, 47, 47, 11, 11, 11, 34, 48, 33, 47, 44, 13, 21, 11, 34, 23, 6, 45, 46, 47, 47, 18, 21, 45, 28, 26, 36, 34, 46, 46, 21, 10, 3, 11, 46, 11, 47, 34, 4, 46, 0, 11, 11, 34, 46, 47, 10, 10, 6, 34, 46, 39, 34, 34, 11, 28, 40, 46, 47, 20, 29, 43, 37, 1, 34, 47, 11, 41, 34, 37, 11, 24, 46, 4, 30, 31, 47, 8, 34, 23, 11, 0, 48, 6, 32, 39, 28, 40, 1, 11, 3, 4, 11, 21, 46, 47, 4, 4, 28, 16, 4, 15, 11, 19, 28, 37, 11, 34, 34, 28, 24, 18, 37, 11, 11, 46, 14, 49, 9, 47, 1, 19, 21, 44, 10, 23, 29, 11, 28, 24, 11, 49, 46, 34, 46, 8, 34, 34, 24, 20, 45, 11, 28, 16, 28, 46, 10, 34, 46, 36, 29, 4, 28, 8, 1, 11, 46, 11, 23, 0, 41, 46, 8, 45, 44, 48, 8, 34, 28, 36, 21, 34, 13, 47, 46, 28, 46, 29, 27, 46, 44, 27, 17, 4, 30, 34, 48, 3, 47, 34, 11, 11, 9, 47, 41, 46, 44, 28, 34, 24, 47, 16, 4, 10, 11, 11, 21, 11, 45, 41, 9, 15, 5, 4, 4, 11, 34, 11, 11, 28, 11, 34, 1, 34, 26, 28, 0, 46, 11, 23, 38, 38, 46, 41, 45, 39, 34, 8, 28, 48, 8, 43, 46, 9, 11, 6, 34, 20, 15, 34, 44, 41, 14, 27, 37, 24, 41, 34, 4, 28, 11, 11, 6, 8, 9, 36, 48, 45, 11, 47, 44, 6, 47, 10, 44, 31, 48, 44, 34, 31, 44, 11, 34, 34, 44, 11, 47, 0, 36, 44, 46, 28, 39, 44, 27, 14, 47, 11, 9, 19, 40, 43, 44, 46, 19, 48, 16, 13, 34, 44, 46, 47, 26, 47, 30, 29, 43, 27, 30, 4, 3, 30, 30, 43, 20, 11, 44, 11, 11, 14, 46, 15, 39, 35, 9, 46, 35, 24, 46, 6, 41, 21, 34, 17, 34, 34, 39, 11, 11, 46, 27, 34, 34, 11, 23, 11, 36, 11, 46, 47, 44, 1, 11, 47, 39, 34, 11, 9, 34, 46, 47, 11, 8, 8, 13, 13, 29, 3, 11, 16, 19, 38, 27, 47, 43, 14, 48, 11, 22, 16, 6, 34, 8, 21, 35, 36, 47, 0, 14, 18, 26, 47, 29, 44, 4, 48, 46, 9, 14, 11, 0, 45, 46, 8, 11, 46, 46, 30, 28, 0, 27, 47, 34, 34, 48, 41, 46, 11, 34, 0, 5, 11, 20, 8, 44, 4, 48, 46, 28, 28, 1, 1, 11, 19, 18, 34, 8, 34, 34, 46, 47, 4, 48, 15, 28, 28, 34, 10, 39, 21, 19, 48, 37, 11, 34, 36, 11, 44, 47, 17, 8, 11, 0, 14, 46, 0, 28, 46, 27, 11, 21, 30, 34, 44, 11, 2, 9, 37, 34, 46, 11, 46, 21, 43, 45, 11, 10, 46, 8, 10, 8, 39, 27, 9, 16, 23, 34, 30, 11, 11, 45, 27, 44, 24, 48, 15, 6, 46, 47, 34, 1, 3, 27, 34, 47, 27, 44, 34, 46, 46, 11, 46, 39, 14, 8, 28, 38, 44, 39, 34, 47, 4, 47, 47, 11, 47, 45, 47, 11, 18, 46, 43, 48, 34, 34, 34, 11, 47, 8, 29, 18, 11, 36, 36, 1, 45, 43, 21, 34, 11, 34, 24, 27, 39, 39, 34, 27, 34, 48, 16, 34, 44, 21, 11, 11, 41, 46, 47, 20, 20, 36, 44, 46, 36, 39, 11, 34, 13, 40, 20, 48, 30, 38, 0, 30, 27, 38, 27, 28, 38, 46, 34, 34, 11, 5, 30, 47, 0, 46, 39, 46, 3, 9, 47, 15, 18, 20, 4, 34, 34, 40, 8, 3, 46, 23, 47, 34, 8, 9, 0, 0, 14, 11, 11, 44, 1, 34, 20, 26, 27, 11, 28, 26, 28, 11, 17, 11, 34, 11, 9, 47, 27, 1, 26, 13, 34, 45, 39, 28, 11, 34, 47, 47, 46, 34, 28, 34, 9, 8, 39, 39, 34, 19, 27, 11, 21, 46, 8, 26, 48, 46, 47, 44, 44, 46, 32, 20, 34, 46, 47, 18, 34, 46, 4, 9, 34, 42, 28, 4, 11, 43, 11, 21, 1, 41, 46, 18, 11, 28, 11, 11, 46, 44, 21, 39, 47, 16, 36, 11, 10, 30, 18, 9, 14, 29, 4, 46, 27, 34, 30, 4, 4, 11, 43, 18, 46, 34, 45, 11, 11, 11, 4, 13, 36, 2, 15, 39, 39, 39, 27, 0, 46, 8, 39, 38, 11, 26, 37, 34, 34, 30, 10, 26, 10, 20, 36, 8, 34, 44, 27, 6, 36, 34, 23, 24, 18, 47, 47, 35, 34, 21, 27, 7, 44, 14, 46, 5, 19, 47, 39, 9, 43, 34, 47, 47, 11, 34, 48, 11, 0, 3, 4, 11, 29, 45, 11, 6, 10, 0, 39, 45, 8, 36, 46, 34, 18, 39, 46, 8, 18, 34, 22, 34, 34, 47, 11, 11, 47, 43, 41, 0, 47, 16, 27, 45, 34, 6, 29, 11, 34, 11, 11, 30, 6, 10, 13, 43, 4, 1, 46, 10, 46, 47, 34, 1, 17, 37, 26, 34, 1, 34, 34, 26, 36, 13, 4, 11, 34, 44, 10, 11, 37, 21, 24, 15, 44, 34, 9, 45, 4, 41, 47, 46, 0, 21, 23, 47, 28, 11, 15, 43, 46, 39, 38, 4, 44, 11, 44, 1, 20, 48, 38, 46, 0, 19, 1, 1, 36, 39, 20, 34, 36, 11, 46, 11, 46, 41, 23, 4, 33, 11, 24, 21, 11, 11, 41, 18, 39, 34, 34, 32, 24, 47, 8, 20, 20, 38, 36, 28, 47, 15, 8, 26, 1, 46, 34, 12, 22, 46, 18, 34, 36, 1, 27, 47, 34, 27, 46, 47, 11, 39, 28, 23, 34, 8, 8, 46, 45, 11, 11, 28, 28, 34, 34, 14, 34, 21, 47, 26, 46, 34, 9, 11, 39, 4, 20, 10, 34, 38, 11, 47, 11, 28, 30, 35, 34, 11, 4, 18, 20, 11, 11, 19, 0, 10, 47, 9, 34, 48, 46, 10, 47, 11, 11, 28, 34, 26, 37, 0, 26, 11, 44, 34, 34, 34, 30, 1, 16, 11, 11, 47, 48, 23, 39, 20, 1, 39, 45, 34, 46, 46, 11, 38, 36, 34, 39, 34, 16, 34, 34, 39, 27, 46, 39, 18, 24, 0, 34, 28, 43, 30, 9, 27, 27, 34, 4, 41, 11, 0, 46, 30, 46, 9, 22, 39, 30, 20, 11, 34, 1, 34, 28, 4, 28, 11, 1, 46, 47, 21, 46, 14, 11, 43, 46, 11, 11, 27, 41, 40, 26, 8, 46, 46, 28, 24, 6, 34, 39, 46, 4, 18, 11, 11, 15, 46, 9, 41, 21, 35, 24, 48, 46, 34, 34, 39, 24, 23, 20, 8, 10, 29, 39, 16, 36, 11, 17, 11, 39, 37, 41, 4, 34, 46, 19, 34, 18, 47, 47, 39, 11, 23, 11, 10, 0, 46, 44, 28, 39, 9, 11, 35, 47, 0, 45, 11, 47, 8, 23, 18, 27, 11, 0, 34, 30, 21, 41, 18, 0, 28, 44, 45, 34, 47, 1, 38, 15, 23, 45, 47, 9, 11, 34, 9, 39, 46, 11, 27, 46, 47, 39, 4, 34, 34, 21, 3, 13, 13, 26, 0, 28, 34, 20, 4, 27, 6, 11, 29, 13, 47, 8, 17, 28, 46, 3, 16, 15, 34, 14, 44, 34, 46, 11, 37, 11, 11, 46, 47, 44, 4, 47, 11, 18, 20, 44, 1, 8, 47, 48, 46, 34, 15, 9, 10, 34, 34, 26, 32, 4, 31, 41, 34, 34, 10, 46, 29, 24, 15, 36, 27, 8, 34, 46, 30, 0, 34, 34, 20, 34, 18, 34, 36, 46, 24, 8, 11, 6, 34, 46, 44, 18, 3, 47, 28, 34, 27, 34, 34, 47, 0, 5, 0, 6, 47, 4, 48, 46, 27, 47, 3, 27, 41, 34, 41, 47, 27, 14, 31, 0, 21, 34, 6, 39, 4, 36, 8, 26, 11, 8, 48, 34, 10, 39, 40, 46, 26, 6, 13, 39, 46, 11, 33, 47, 44, 22, 16, 47, 3, 34, 6, 30, 34, 0, 11, 26, 34, 36, 47, 0, 11, 38, 4, 11, 28, 29, 48, 44, 21, 22, 45, 32, 29, 11, 41, 34, 48, 11, 47, 11, 44, 26, 34, 11, 10, 39, 44, 36, 34, 36, 1, 43, 34, 39, 0, 15, 38, 21, 47, 2, 13, 46, 39, 46, 34, 44, 34, 6, 40, 11, 11, 34, 11, 28, 16, 11, 27, 34, 39, 36, 39, 19, 13, 0, 23, 8, 44, 47, 13, 40, 47, 9, 13, 11, 46, 11, 27, 11, 28, 30, 46, 8, 45, 27, 28, 39, 9, 23, 5, 22, 4, 36, 44, 23, 11, 26, 11, 14, 10, 19, 46, 15, 9, 34, 11, 30, 34, 46, 28, 39, 46, 45, 30, 48, 44, 47, 34, 10, 41, 26, 37, 6, 28, 16, 18, 34, 34, 26, 16, 47, 44, 38, 21, 4, 23, 13, 34, 34, 47, 13, 47, 28, 14, 34, 28, 41, 16, 13, 11, 28, 34, 36, 10, 22, 35, 35, 18, 40, 11, 11, 29, 11, 37, 34, 26, 19, 34, 11, 11, 0, 36, 10, 11, 44, 48, 34, 14, 28, 34, 11, 34, 18, 0, 29, 23, 34, 0, 46, 34, 49, 3, 34, 4, 10, 20, 34, 26, 6, 11, 11, 27, 48, 13, 0, 20, 21, 6, 47, 34, 34, 28, 28, 46, 27, 9, 26, 23, 34, 34, 41, 8, 41, 16, 30, 11, 46, 46, 48, 39, 23, 11, 28, 49, 39, 46, 47, 10, 9, 18, 21, 14, 34, 34, 23, 10, 46, 44, 36, 37, 46, 34, 46, 47, 23, 34, 47, 10, 46, 0, 0, 32, 29, 39, 28, 13, 47, 11, 46, 34, 11, 47, 36, 41, 4, 11, 47, 4, 38, 1, 4, 47, 47, 34, 11, 36, 47, 30, 46, 31, 43, 0, 47, 14, 34, 46, 39, 11, 21, 24, 49, 34, 46, 0, 11, 22, 14, 11, 44, 15, 6, 43, 46, 13, 46, 17, 34, 34, 4, 34, 34, 11, 46, 11, 11, 5, 45, 34, 46, 44, 17, 46, 46, 17, 5, 26, 41, 11, 46, 39, 28, 46, 11, 0, 39, 18, 9, 27, 0, 23, 26, 39, 19, 47, 21, 44, 35, 11, 24, 39, 27, 18, 10, 9, 26, 46, 11, 18, 43, 10, 21, 4, 8, 18, 20, 24, 18, 45, 27, 34, 34, 28, 34, 3, 43, 0, 11, 44, 43, 23, 46, 10, 34, 34, 44, 32, 46, 4, 23, 47, 11, 47, 49, 1, 34, 20, 28, 46, 13, 34, 26, 46, 11, 9, 42, 8, 28, 11, 8, 8, 47, 34, 10, 11, 47, 6, 30, 27, 45, 9, 47, 27, 11, 11, 14, 21, 9, 36, 39, 34, 20, 44, 8, 36, 47, 46, 24, 47, 11, 11, 39, 46, 6, 23, 27, 11, 11, 3, 36, 37, 6, 6, 44, 8, 16, 18, 2, 30, 26, 49, 23, 15, 27, 30, 11, 46, 26, 46, 47, 45, 41, 43, 11, 40, 34, 11, 32, 46, 34, 13, 6, 21, 48, 34, 11, 1, 47, 27, 47, 47, 23, 8, 34, 39, 11, 46, 4, 14, 46, 4, 0, 47, 39, 11, 8, 39, 23, 13, 34, 36, 0, 4, 36, 47, 34, 28, 34, 9, 6, 27, 48, 11, 19, 26, 23, 11, 47, 40, 13, 34, 47, 34, 37, 44, 4, 21, 36, 41, 8, 31, 13, 46, 27, 22, 11, 11, 45, 30, 19, 29, 17, 36, 46, 35, 47, 48, 24, 27, 49, 47, 0, 47, 5, 13, 18, 26, 46, 47, 11, 34, 34, 34, 39, 6, 13, 36, 17, 30, 13, 28, 37, 46, 46, 47, 36, 17, 47, 23, 8, 11, 47, 17, 0, 11, 3, 20, 46, 8, 34, 4, 12, 29, 28, 34, 18, 34, 9, 34, 1, 44, 44, 44, 39, 4, 34, 43, 27, 45, 47, 1, 11, 11, 34, 11, 35, 22, 11, 8, 30, 46, 34, 13, 47, 13, 1, 34, 40, 8, 18, 30, 48, 21, 0, 28, 16, 28, 5, 34, 27, 34, 21, 46, 0, 26, 4, 46, 16, 30, 11, 28, 27, 31, 0, 26, 31, 34, 27, 34, 10, 13, 31, 21, 9, 11, 8, 34, 48, 47, 11, 42, 15, 14, 28, 46, 11, 44, 46, 8, 26, 11, 11, 17, 27, 10, 34, 29, 10, 11, 0, 9, 0, 44, 37, 18, 28, 9, 34, 6, 21, 44, 47, 11, 34, 47, 48, 18, 11, 46, 34, 11, 10, 4, 34, 34, 30, 4, 24, 29, 34, 13, 14, 11, 31, 11, 34, 16, 29, 11, 28, 39, 39, 46, 44, 27, 8, 11, 34, 6, 46, 0, 47, 46, 8, 46, 0, 41, 11, 28, 34, 11, 46, 19, 43, 26, 46, 16, 34, 0, 11, 11, 46, 48, 28, 46, 0, 34, 48, 39, 31, 9, 47, 8, 11, 9, 46, 34, 39, 34, 36, 0, 11, 11, 17, 47, 34, 23, 14, 27, 3, 27, 11, 48, 39, 34, 46, 11, 24, 11, 4, 20, 38, 8, 11, 47, 34, 43, 43, 26, 38, 5, 46, 28, 47, 8, 30, 44, 23, 0, 8, 16, 16, 17, 47, 13, 34, 11, 10, 9, 11, 47, 26, 34, 34, 41, 18, 14, 30, 46, 5, 46, 11, 6, 34, 8, 47, 47, 11, 34, 42, 35, 34, 21, 11, 48, 30, 34, 11, 0, 15, 38, 30, 47, 37, 9, 34, 34, 4, 44, 34, 41, 10, 22, 46, 28, 47, 40, 24, 20, 47, 11, 15, 37, 4, 22, 47, 34, 48, 9, 5, 46, 44, 27, 28, 46, 31, 30, 17, 11, 47, 11, 24, 44, 36, 5, 28, 34, 11, 4, 11, 5, 16, 48, 11, 8, 24, 28, 28, 8, 0, 0, 28, 43, 13, 4, 10, 0, 11, 11, 21, 35, 34, 28, 43, 36, 29, 11, 0, 28, 28, 34, 17, 23, 0, 27, 34, 34, 41, 43, 6, 11, 34, 34, 28, 47, 0, 9, 28, 45, 39, 34, 18, 47, 34, 26, 4, 15, 47, 46, 45, 24, 44, 9, 11, 0, 47, 34, 47, 46, 34, 11, 44, 4, 4, 13, 28, 34, 13, 39, 21, 47, 21, 47, 20, 13, 31, 11, 21, 1, 41, 26, 34, 41, 0, 43, 41, 44, 46, 40, 0, 31, 46, 21, 46, 20, 45, 46, 0, 11, 48, 13, 46, 39, 34, 39, 0, 34, 48, 44, 19, 34, 44, 11, 0, 34, 28, 4, 39, 11, 4, 15, 1, 34, 34, 46, 5, 34, 46, 34, 46, 10, 11, 34, 34, 30, 43, 46, 48, 34, 13, 44, 36, 34, 38, 18, 34, 39, 29, 44, 30, 48, 11, 11, 39, 11, 27, 34, 43, 46, 45, 39, 1, 6, 40, 46, 47, 28, 23, 11, 4, 10, 19, 46, 41, 29, 47, 6, 47, 6, 4, 47, 34, 11, 21, 1, 1, 10, 21, 24, 34, 47, 19, 21, 28, 11, 48, 11, 46, 9, 11, 30, 39, 34, 8, 19, 30, 44, 46, 48, 8, 34, 46, 34, 30, 21, 8, 29, 11, 23, 44, 36, 19, 21, 34, 39, 11, 47, 34, 41, 34, 21, 16, 21, 11, 6, 47, 46, 11, 39, 1, 23, 45, 18, 29, 4, 15, 46, 34, 13, 46, 21, 27, 48, 41, 46, 1, 28, 44, 40, 11, 44, 47, 4, 48, 8, 18, 21, 0, 28, 47, 18, 47, 34, 10, 24, 0, 24, 27, 28, 11, 45, 11, 39, 47, 13, 47, 29, 44, 0, 23, 11, 38, 24, 34, 11, 47, 27, 11, 4, 1, 4, 36, 44, 34, 4, 0, 39, 34, 39, 40, 34, 9, 11, 34, 32, 39, 4, 18, 46, 20, 34, 34, 44, 0, 4, 21, 1, 11, 45, 46, 28, 47, 6, 39, 6, 39, 46, 30, 11, 47, 46, 39, 36, 43, 19, 24, 9, 27, 47, 34, 8, 34, 46, 0, 4, 18, 20, 46, 41, 4, 34, 9, 48, 27, 48, 11, 34, 48, 47, 34, 46, 36, 47, 46, 46, 26, 20, 4, 47, 34, 36, 11, 13, 46, 27, 34, 47, 4, 26, 11, 26, 26, 13, 46, 46, 39, 34, 40, 15, 34, 18, 39, 46, 11, 10, 6, 47, 4, 47, 27, 13, 16, 47, 46, 1, 8, 8, 0, 11, 46, 0, 11, 4, 39, 18, 28, 47, 36, 39, 21, 48, 26, 20, 34, 34, 4, 19, 46, 46, 47, 11, 46, 23, 34, 34, 21, 27, 28, 28, 11, 46, 44, 41, 47, 19, 34, 14, 46, 38, 11, 11, 10, 11, 44, 11, 34, 30, 49, 47, 27, 11, 9, 28, 10, 29, 34, 28, 17, 4, 0, 44, 34, 11, 11, 28, 46, 8, 0, 47, 11, 13, 28, 0, 11, 34, 46, 46, 1, 27, 47, 41, 46, 11, 27, 16, 1, 11, 8, 21, 46, 3, 45, 18, 27, 23, 43, 1, 28, 39, 11, 11, 11, 0, 13, 34, 39, 0, 11, 11, 27, 23, 46, 20, 11, 10, 1, 9, 8, 43, 21, 35, 46, 43, 28, 4, 45, 34, 44, 36, 45, 34, 34, 11, 27, 47, 4, 13, 26, 36, 5, 34, 41, 46, 4, 3, 1, 27, 47, 19, 23, 27, 12, 29, 36, 44, 27, 36, 11, 27, 4, 26, 47, 16, 16, 45, 11, 48, 10, 11, 11, 11, 1, 34, 0, 11, 23, 46, 11, 47, 34, 34, 28, 39, 47, 27, 34, 44, 27, 28, 3, 47, 28, 48, 27, 44, 11, 11, 46, 11, 47, 6, 8, 43, 27, 4, 19, 10, 4, 27, 27, 32, 3, 24, 11, 28, 34, 1, 0, 2, 37, 21, 0, 11, 1, 34, 10, 27, 9, 15, 28, 34, 34, 44, 34, 46, 0, 6, 11, 27, 26, 11, 34, 41, 47, 19, 45, 13, 8, 36, 8, 0, 34, 27, 39, 11, 8, 9, 35, 28, 34, 30, 11, 28, 14, 43, 4, 11, 11, 37, 18, 34, 34, 1, 46, 11, 1, 14, 19, 9, 11, 0, 0, 21, 44, 23, 34, 48, 34, 4, 3, 11, 34, 46, 39, 44, 27, 49, 1, 13, 47, 34, 0, 11, 20, 23, 10, 11, 11, 11, 39, 16, 48, 46, 24, 34, 11, 4, 28, 11, 11, 45, 34, 47, 34, 10, 27, 34, 34, 11, 34, 46, 11, 11, 24, 37, 34, 26, 11, 11, 39, 6, 11, 30, 27, 1, 13, 23, 36, 21, 23, 46, 20, 10, 47, 44, 46, 38, 34, 34, 3, 11, 43, 9, 9, 10, 43, 34, 1, 11, 28, 15, 36, 11, 34, 39, 24, 44, 46, 23, 11, 34, 28, 31, 48, 47, 5, 11, 8, 30, 46, 47, 39, 11, 11, 46, 34, 29, 18, 48, 36, 34, 14, 11, 13, 44, 34, 34, 4, 22, 47, 47, 15, 34, 17, 5, 16, 47, 9, 34, 13, 22, 46, 46, 46, 46, 34, 11, 26, 48, 11, 23, 34, 34, 27, 36, 48, 21, 47, 39, 21, 34, 27, 38, 34, 46, 11, 11, 46, 31, 10, 34, 10, 10, 1, 11, 46, 34, 15, 34, 34, 34, 22, 8, 11, 11, 24, 11, 46, 15, 4, 45, 34, 18, 39, 11, 14, 47, 0, 27, 36, 48, 36, 44, 47, 34, 34, 41, 34, 47, 8, 41, 34, 9, 44, 34, 24, 47, 46, 34, 8, 13, 13, 4, 18, 39, 10, 4, 11, 26, 34, 34, 16, 4, 45, 36, 43, 21, 34, 39, 34, 47, 18, 8, 14, 41, 47, 45, 46, 30, 11, 27, 28, 1, 34, 18, 10, 47, 34, 6, 17, 46, 11, 34, 21, 11, 46, 34, 41, 48, 47, 1, 17, 47, 21, 46, 15, 46, 8, 24, 47, 9, 45, 27, 1, 16, 28, 29, 47, 2, 11, 46, 24, 11, 45, 34, 34, 0, 11, 34, 16, 11, 14, 16, 8, 32, 11, 47, 36, 37, 17, 16, 46, 21, 10, 22, 24, 44, 45, 11, 41, 24, 21, 43, 11, 28, 4, 24, 46, 11, 13, 44, 28, 44, 27, 20, 36, 47, 9, 34, 11, 34, 21, 26, 46, 41, 16, 46, 34, 43, 46, 10, 11, 28, 34, 4, 1, 8, 34, 46, 43, 34, 10, 17, 16, 20, 34, 46, 15, 34, 34, 24, 47, 48, 46, 34, 46, 47, 46, 19, 11, 47, 10, 21, 47, 34, 34, 34, 30, 11, 46, 34, 4, 41, 11, 10, 36, 40, 30, 34, 28, 11, 6, 30, 45, 11, 44, 11, 44, 34, 39, 14, 39, 20, 10, 48, 46, 46, 1, 1, 10, 47, 47, 44, 28, 34, 27, 46, 8, 47, 29, 10, 47, 11, 38, 21, 47, 11, 43, 45, 34, 48, 11, 13, 13, 34, 20, 39, 34, 46, 11, 47, 11, 11, 34, 11, 8, 31, 46, 39, 18, 34, 34, 13, 46, 47, 46, 46, 26, 45, 11, 11, 9, 0, 11, 26, 30, 47, 11, 41, 47, 46, 34, 39, 11, 20, 26, 34, 28, 34, 8, 16, 11, 41, 11, 34, 26, 29, 20, 44, 45, 9, 46, 34, 0, 34, 47, 46, 11, 9, 34, 0, 46, 18, 47, 10, 21, 34, 34, 34, 47, 11, 18, 0, 4, 26, 46, 34, 11, 19, 34, 11, 34, 14, 11, 34, 30, 30, 34, 34, 27, 34, 18, 26, 28, 39, 0, 11, 13, 0, 20, 26, 9, 23, 48, 13, 15, 39, 43, 46, 10, 44, 24, 30, 46, 24, 34, 9, 27, 14, 46, 21, 24, 11, 11, 46, 11, 0, 28, 11, 8, 1, 23, 19, 38, 9, 4, 34, 13, 30, 11, 18, 39, 11, 47, 36, 20, 27, 45, 3, 34, 24, 6, 11, 34, 13, 13, 41, 1, 34, 46, 39, 46, 47, 47, 11, 40, 21, 26, 41, 26, 34, 22, 11, 47, 43, 3, 48, 34, 11, 28, 28, 11, 8, 0, 34, 34, 45, 11, 34, 14, 46, 11, 46, 11, 34, 11, 34, 30, 46, 28, 6, 10, 46, 20, 24, 30, 19, 46, 11, 43, 10, 11, 11, 26, 38, 36, 34, 11, 11, 30, 24, 47, 35, 24, 27, 4, 34, 15, 36, 34, 11, 19, 22, 23, 46, 0, 23, 48, 17, 11, 47, 11, 37, 34, 27, 22, 13, 47, 0, 11, 44, 8, 15, 10, 10, 46, 20, 34, 16, 46, 37, 39, 34, 4, 47, 37, 4, 41, 28, 47, 18, 47, 15, 28, 26, 34, 40, 45, 34, 37, 43, 11, 6, 4, 11, 28, 46, 48, 34, 11, 34, 11, 46, 23, 11, 26, 47, 8, 3, 39, 28, 0, 3, 34, 39, 34, 9, 27, 44, 26, 4, 47, 9, 11, 27, 27, 34, 36, 15, 33, 11, 34, 46, 8, 10, 11, 9, 18, 0, 13, 9, 46, 11, 47, 8, 11, 38, 10, 34, 18, 26, 40, 33, 27, 11, 28, 30, 45, 21, 27, 37, 46, 28, 27, 29, 11, 28, 28, 29, 47, 14, 21, 46, 27, 4, 1, 11, 46, 8, 47, 45, 11, 46, 11, 24, 34, 39, 11, 8, 10, 47, 47, 28, 10, 2, 23, 0, 10, 11, 27, 34, 34, 34, 44, 14, 0, 34, 34, 28, 0, 21, 11, 23, 18, 11, 39, 13, 9, 23, 13, 21, 23, 0, 47, 14, 11, 44, 45, 48, 47, 39, 34, 41, 46, 45, 0, 4, 47, 26, 27, 11, 47, 44, 11, 34, 1, 37, 11, 37, 44, 46, 48, 47, 26, 16, 24, 11, 28, 48, 28, 27, 23, 30, 43, 0, 46, 23, 20, 34, 34, 27, 18, 34, 30, 46, 19, 11, 47, 0, 34, 34, 39, 28, 41, 6, 4, 39, 0, 17, 0, 19, 3, 47, 34, 36, 0, 9, 46, 14, 41, 11, 1, 46, 44, 47, 36, 17, 16, 0, 28, 27, 11, 4, 47, 6, 4, 13, 34, 3, 35, 36, 34, 28, 6, 41, 47, 6, 46, 41, 36, 0, 6, 26, 34, 0, 47, 15, 34, 10, 11, 47, 39, 46, 34, 39, 47, 39, 11, 9, 40, 38, 34, 47, 46, 46, 11, 1, 39, 34, 43, 11, 48, 11, 47, 34, 4, 22, 32, 20, 11, 4, 11, 35, 11, 47, 6, 34, 41, 23, 18, 47, 47, 11, 14, 34, 2, 34, 0, 46, 29, 26, 34, 4, 18, 47, 47, 11, 11, 48, 39, 35, 11, 36, 47, 37, 20, 34, 21, 0, 6, 19, 44, 11, 10, 15, 48, 26, 11, 46, 23, 1, 11, 29, 47, 23, 34, 4, 39, 11, 24, 27, 46, 44, 23, 8, 8, 48, 11, 4, 8, 11, 39, 20, 34, 11, 36, 18, 46, 21, 27, 17, 4, 29, 11, 11, 26, 32, 26, 1, 34, 48, 46, 39, 11, 46, 47, 0, 20, 23, 0, 48, 23, 11, 9, 47, 23, 11, 38, 11, 47, 23, 30, 40, 44, 13, 13, 34, 11, 21, 47, 47, 10, 34, 27, 16, 49, 16, 36, 47, 4, 8, 0, 30, 34, 36, 34, 4, 44, 46, 21, 11, 37, 2, 34, 5, 11, 34, 21, 46, 34, 20, 46, 11, 11, 4, 47, 19, 38, 19, 46, 36, 9, 4, 4, 34, 13, 10, 21, 46, 11, 47, 11, 11, 34, 39, 28, 16, 47, 13, 39, 41, 48, 47, 34, 4, 21, 46, 11, 11, 34, 9, 44, 10, 39, 34, 34, 37, 11, 32, 34, 11, 47, 27, 0, 24, 47, 44, 46, 34, 39, 11, 15, 44, 29, 39, 11, 10, 13, 34, 40, 0, 9, 34, 20, 34, 0, 41, 0, 34, 21, 9, 47, 46, 10, 47, 15, 1, 43, 10, 47, 9, 47, 11, 4, 11, 11, 27, 34, 47, 10, 39, 26, 27, 20, 46, 34, 34, 34, 24, 47, 28, 11, 11, 9, 4, 44, 13, 0, 40, 34, 34, 39, 27, 11, 10, 11, 37, 44, 11, 11, 11, 27, 34, 39, 23, 11, 11, 11, 0, 11, 48, 30, 42, 36, 11, 23, 18, 48, 47, 27, 10, 41, 21, 15, 44, 39, 10, 27, 30, 47, 11, 9, 11, 11, 44, 4, 11, 11, 30, 39, 9, 0, 46, 18, 22, 11, 8, 39, 26, 47, 34, 11, 13, 44, 46, 47, 28, 11, 34, 36, 11, 11, 26, 1, 34, 34, 11, 47, 11, 37, 34, 18, 46, 39, 34, 47, 46, 46, 0, 41, 13, 47, 11, 34, 0, 47, 11, 43, 10, 30, 23, 18, 48, 30, 47, 21, 11, 34, 44, 46, 28, 46, 48, 27, 46, 11, 45, 46, 26, 46, 9, 11, 11, 18, 22, 15, 44, 47, 38, 21, 34, 18, 15, 11, 39, 11, 8, 34, 13, 46, 46, 10, 10, 46, 44, 48, 11, 34, 47, 30, 0, 39, 3, 24, 41, 14, 39, 47, 46, 35, 18, 11, 4, 11, 13, 15, 34, 14, 34, 4, 6, 11, 39, 20, 46, 0, 34, 9, 34, 29, 18, 34, 47, 34, 4, 11, 46, 43, 44, 21, 29, 19, 35, 36, 34, 39, 41, 3, 11, 11, 34, 46, 18, 39, 1, 47, 11, 34, 11, 37, 27, 28, 46, 29, 41, 1, 45, 30, 11, 27, 34, 47, 9, 31, 47, 34, 11, 30, 27, 47, 47, 18, 27, 41, 31, 45, 11, 34, 39, 41, 8, 47, 26, 18, 14, 47, 47, 16, 39, 39, 28, 48, 9, 23, 34, 21, 47, 21, 14, 32, 30, 40, 43, 13, 19, 18, 8, 8, 34, 34, 30, 16, 30, 30, 35, 21, 43, 0, 18, 45, 28, 1, 47, 28, 15, 11, 43, 20, 11, 47, 9, 2, 11, 11, 35, 8, 39, 34, 14, 27, 0, 21, 20, 2, 39, 41, 41, 3, 34, 39, 44, 43, 44, 11, 28, 34, 1, 28, 26, 11, 27, 46, 40, 27, 48, 15, 34, 34, 10, 8, 34, 11, 39, 9, 41, 43, 0, 8, 11, 34, 6, 39, 18, 0, 35, 28, 43, 46, 20, 11, 45, 11, 8, 34, 11, 41, 46, 34, 46, 43, 13, 1, 1, 34, 13, 45, 44, 34, 47, 48, 1, 31, 0, 13, 26, 46, 5, 31, 48, 41, 21, 44, 27, 46, 47, 20, 11, 1, 9, 26, 28, 46, 46, 24, 39, 47, 10, 38, 10, 44, 38, 23, 40, 47, 10, 46, 11, 34, 27, 13, 11, 10, 18, 11, 6, 11, 15, 32, 48, 34, 35, 28, 11, 47, 16, 47, 32, 43, 11, 47, 45, 16, 0, 45, 45, 34, 48, 11, 0, 34, 10, 30, 8, 44, 36, 27, 11, 20, 26, 8, 47, 4, 28, 11, 18, 46, 34, 37, 31, 13, 28, 34, 44, 44, 47, 38, 43, 0, 16, 34, 46, 44, 9, 47, 46, 13, 35, 47, 35, 46, 30, 40, 8, 46, 20, 43, 11, 6, 0, 11, 4, 24, 34, 39, 47, 15, 11, 23, 27, 34, 34, 11, 4, 35, 34, 48, 8, 11, 34, 27, 20, 34, 39, 10, 34, 11, 23, 34, 27, 44, 0, 46, 44, 40, 11, 46, 44, 46, 47, 28, 15, 46, 48, 18, 41, 9, 13, 46, 5, 44, 46, 11, 16, 5, 30, 46, 22, 8, 24, 47, 24, 14, 4, 47, 46, 0, 34, 37, 4, 10, 26, 45, 48, 34, 0, 4, 30, 46, 47, 18, 15, 18, 34, 39, 11, 34, 46, 22, 46, 22, 0, 20, 46, 13, 48, 2, 8, 34, 21, 0, 34, 9, 0, 30, 47, 34, 28, 13, 15, 23, 24, 0, 11, 14, 11, 34, 44, 16, 46, 8, 11, 19, 0, 34, 41, 28, 48, 34, 6, 34, 36, 47, 26, 11, 20, 39, 6, 28, 46, 44, 45, 0, 46, 11, 46, 24, 11, 6, 0, 39, 0, 47, 27, 24, 4, 34, 34, 48, 46, 10, 46, 9, 18, 34, 15, 15, 11, 4, 27, 47, 14, 21, 11, 28, 24, 31, 23, 6, 4, 34, 19, 0, 46, 24, 47, 44, 46, 34, 27, 9, 48, 34, 11, 27, 46, 16, 11, 41, 34, 0, 34, 40, 10, 46, 11, 4, 39, 21, 10, 44, 39, 11, 22, 46, 11, 34, 47, 47, 26, 41, 6, 47, 40, 34, 47, 27, 23, 43, 39, 34, 29, 8, 4, 11, 11, 21, 34, 26, 47, 34, 11, 34, 46, 48, 34, 11, 8, 11, 44, 46, 44, 44, 24, 5, 39, 10, 29, 4, 36, 36, 20, 47, 14, 11, 24, 47, 6, 46, 20, 34, 23, 17, 4, 39, 24, 27, 46, 44, 11, 47, 24, 41, 8, 46, 8, 46, 44, 20, 46, 9, 30, 46, 22, 11, 17, 21, 11, 48, 27, 45, 19, 28, 9, 28, 23, 44, 34, 46, 34, 39, 11, 37, 26, 30, 36, 34, 9, 34, 0, 1, 9, 6, 44, 15, 9, 44, 28, 0, 35, 20, 46, 26, 27, 34, 46, 47, 22, 11, 28, 11, 20, 40, 34, 11, 1, 11, 1, 34, 9, 34, 21, 45, 34, 46, 1, 11, 21, 27, 4, 34, 34, 39, 27, 16, 45, 8, 11, 17, 11, 39, 37, 16, 47, 27, 47, 47, 0, 46, 47, 49, 46, 10, 34, 15, 39, 47, 4, 39, 4, 0, 46, 37, 8, 11, 36, 2, 11, 11, 43, 0, 4, 11, 27, 11, 1, 11, 17, 18, 46, 4, 11, 29, 11, 4, 15, 27, 2, 6, 48, 48, 1, 11, 11, 34, 11, 11, 14, 6, 47, 34, 6, 11, 27, 46, 18, 40, 34, 34, 47, 40, 41, 16, 11, 6, 26, 13, 21, 47, 23, 11, 46, 27, 34, 1, 21, 9, 34, 23, 46, 4, 47, 11, 34, 11, 29, 11, 47, 30, 0, 34, 27, 23, 47, 36, 4, 29, 4, 4, 41, 11, 18, 46, 36, 46, 11, 34, 19, 11, 3, 0, 14, 37, 11, 34, 11, 22, 30, 11, 44, 34, 28, 34, 45, 11, 14, 11, 28, 47, 6, 34, 8, 17, 11, 46, 39, 11, 34, 34, 18, 34, 16, 47, 0, 46, 28, 31, 47, 0, 11, 18, 46, 46, 20, 46, 22, 11, 4, 48, 46, 44, 46, 46, 11, 23, 21, 24, 20, 21, 9, 27, 6, 6, 8, 15, 28, 0, 13, 35, 43, 11, 8, 0, 46, 4, 11, 18, 46, 47, 47, 44, 4, 24, 49, 48, 11, 39, 34, 4, 47, 34, 34, 27, 35, 34, 20, 13, 11, 34, 45, 39, 20, 43, 11, 47, 5, 34, 11, 1, 11, 34, 11, 13, 22, 34, 27, 46, 40, 27, 46, 23, 39, 6, 34, 34, 46, 30, 6, 45, 46, 45, 44, 21, 47, 47, 44, 9, 18, 6, 9, 14, 37, 39, 46, 11, 11, 16, 41, 9, 13, 11, 13, 39, 34, 5, 29, 0, 5, 34, 20, 47, 39, 0, 0, 44, 26, 46, 4, 30, 13, 36, 48, 11, 34, 47, 34, 4, 11, 11, 0, 11, 11, 13, 18, 27, 36, 34, 21, 18, 31, 34, 20, 2, 0, 4, 17, 11, 34, 0, 0, 47, 46, 15, 34, 2, 10, 34, 46, 46, 11, 4, 46, 34, 26, 27, 34, 34, 34, 18, 4, 11, 18, 14, 47, 4, 15, 11, 14, 43, 8, 45, 34, 11, 18, 6, 38, 46, 28, 34, 19, 11, 13, 22, 46, 27, 34, 15, 39, 34, 28, 14, 34, 8, 1, 1, 48, 11, 46, 21, 34, 11, 21, 34, 28, 47, 0, 11, 9, 11, 29, 47, 49, 6, 14, 34, 47, 0, 34, 34, 34, 36, 15, 30, 0, 34, 28, 46, 4, 11, 1, 47, 23, 18, 10, 45, 13, 38, 0, 34, 22, 40, 44, 4, 39, 11, 11, 6, 47, 4, 44, 34, 39, 15, 6, 6, 13, 34, 34, 5, 10, 3, 34, 41, 44, 46, 34, 47, 17, 28, 22, 4, 34, 0, 36, 47, 26, 34, 6, 48, 45, 17, 11, 6, 14, 39, 15, 47, 6, 41, 8, 4, 11, 6, 46, 46, 28, 47, 27, 34, 24, 0, 34, 49, 34, 43, 47, 28, 39, 34, 0, 19, 0, 30, 47, 38, 11, 14, 47, 49, 35, 15, 20, 27, 34, 11, 9, 47, 27, 11, 47, 46, 11, 13, 34, 47, 3, 8, 48, 28, 34, 47, 19, 9, 8, 27, 46, 8, 26, 34, 34, 21, 36, 14, 4, 34, 11, 44, 34, 28, 18, 11, 46, 47, 27, 34, 13, 34, 22, 48, 28, 14, 4, 17, 11, 34, 8, 4, 10, 34, 11, 16, 43, 47, 34, 26, 11, 27, 30, 11, 10, 19, 34, 1, 34, 34, 4, 34, 11, 30, 10, 39, 34, 8, 9, 11, 11, 47, 11, 28, 47, 44, 34, 18, 23, 10, 11, 30, 9, 23, 8, 34, 34, 16, 11, 46, 16, 5, 11, 26, 11, 47, 11, 23, 26, 27, 5, 45, 27, 13, 11, 8, 11, 47, 1, 30, 34, 10, 41, 29, 11, 18, 39, 28, 11, 27, 24, 14, 20, 11, 15, 11, 44, 36, 44, 48, 39, 0, 11, 18, 15, 11, 18, 27, 34, 46, 27, 6, 11, 4, 34, 11, 11, 3, 47, 8, 36, 34, 0, 40, 3, 9, 2, 28, 47, 46, 0, 36, 45, 43, 31, 27, 47, 18, 34, 32, 0, 21, 34, 18, 34, 22, 14, 34, 21, 11, 0, 30, 11, 39, 47, 47, 35, 30, 0, 35, 23, 30, 34, 39, 46, 47, 19, 47, 11, 11, 47, 18, 8, 11, 0, 1, 27, 43, 34, 22, 24, 46, 47, 14, 4, 34, 15, 8, 28, 11, 30, 2, 26, 46, 32, 18, 11, 11, 39, 0, 27, 45, 1, 29, 34, 8, 4, 11, 47, 11, 44, 44, 39, 11, 46, 49, 26, 44, 16, 11, 16, 47, 15, 13, 34, 46, 37, 8, 13, 27, 22, 44, 34, 26, 0, 47, 1, 34, 15, 28, 24, 20, 16, 15, 34, 47, 27, 14, 34, 13, 21, 47, 34, 34, 28, 24, 1, 39, 13, 24, 47, 8, 11, 6, 34, 11, 20, 38, 34, 34, 34, 36, 27, 39, 44, 21, 18, 10, 27, 20, 48, 16, 11, 11, 13, 47, 39, 10, 44, 9, 11, 44, 30, 11, 34, 28, 11, 26, 47, 46, 46, 46, 11, 41, 13, 11, 45, 47, 6, 11, 39, 47, 11, 29, 27, 9, 37, 8, 34, 11, 46, 23, 31, 15, 28, 1, 28, 11, 40, 39, 18, 0, 34, 46, 28, 18, 47, 46, 47, 34, 34, 46, 0, 0, 26, 11, 28, 11, 24, 41, 11, 40, 27, 23, 11, 36, 46, 11, 11, 4, 46, 11, 24, 21, 48, 47, 11, 27, 46, 14, 36, 11, 39, 48, 46, 9, 39, 27, 36, 34, 0, 11, 6, 28, 1, 23, 21, 48, 20, 8, 6, 41, 26, 45, 28, 16, 11, 34, 8, 34, 26, 17, 16, 32, 34, 28, 27, 4, 22, 48, 46, 34, 45, 0, 28, 44, 0, 21, 0, 28, 36, 18, 11, 21, 17, 11, 27, 44, 48, 46, 47, 11, 47, 46, 19, 21, 4, 43, 34, 29, 13, 11, 44, 11, 44, 11, 17, 47, 39, 9, 27, 42, 26, 34, 0, 26, 34, 0, 46, 20, 11, 15, 23, 34, 11, 14, 46, 36, 34, 34, 46, 13, 34, 0, 18, 34, 27, 41, 39, 4, 34, 28, 11, 31, 34, 11, 47, 11, 8, 34, 46, 24, 44, 9, 17, 47, 21, 46, 11, 11, 10, 18, 46, 1, 48, 0, 11, 39, 46, 13, 34, 34, 11, 40, 44, 0, 17, 34, 18, 46, 34, 43, 41, 14, 11, 44, 46, 34, 11, 45, 11, 21, 11, 11, 46, 48, 15, 41, 41, 24, 0, 47, 46, 8, 19, 27, 4, 31, 9, 11, 18, 28, 8, 46, 36, 9, 11, 13, 39, 19, 44, 40, 48, 1, 13, 39, 1, 34, 47, 27, 34, 47, 3, 16, 46, 18, 3, 47, 23, 10, 44, 40, 48, 47, 11, 13, 41, 48, 47, 4, 8, 30, 9, 32, 47, 27, 28, 30, 34, 17, 8, 46, 46, 46, 47, 5, 6, 34, 34, 46, 46, 14, 26, 11, 45, 15, 47, 46, 30, 15, 46, 24, 44, 23, 6, 21, 47, 47, 26, 47, 47, 34, 18, 45, 13, 0, 31, 9, 35, 4, 43, 34, 47, 34, 43, 46, 23, 34, 6, 46, 47, 19, 11, 11, 34, 48, 17, 34, 46, 49, 36, 0, 34, 23, 11, 34, 9, 18, 48, 46, 29, 1, 47, 18, 13, 24, 39, 27, 47, 18, 11, 47, 19, 35, 46, 16, 11, 8, 34, 34, 18, 35, 46, 36, 27, 18, 49, 46, 47, 34, 9, 21, 43, 4, 6, 47, 18, 28, 41, 46, 23, 11, 48, 39, 8, 39, 44, 30, 28, 11, 32, 39, 4, 39, 11, 34, 47, 36, 28, 8, 44, 16, 28, 21, 11, 36, 34, 39, 34, 34, 46, 3, 44, 11, 11, 18, 43, 36, 47, 19, 28, 34, 4, 19, 10, 46, 39, 13, 14, 46, 6, 28, 34, 34, 44, 44, 8, 43, 44, 28, 34, 5, 28, 5, 46, 36, 44, 18, 18, 34, 46, 31, 20, 46, 28, 43, 34, 11, 11, 11, 41, 41, 47, 11, 39, 11, 34, 28, 9, 1, 30, 3, 47, 0, 28, 0, 4, 17, 26, 34, 48, 27, 34, 39, 48, 34, 11, 39, 48, 8, 11, 11, 34, 34, 4, 18, 46, 27, 21, 0, 14, 41, 30, 9, 4, 9, 11, 11, 41, 34, 8, 44, 27, 5, 11, 11, 46, 15, 34, 47, 47, 39, 14, 11, 11, 17, 9, 17, 27, 11, 0, 14, 15, 1, 48, 11, 11, 27, 14, 39, 28, 11, 0, 49, 34, 31, 43, 37, 18, 11, 4, 46, 9, 6, 4, 44, 34, 36, 43, 45, 31, 6, 0, 4, 10, 8, 47, 21, 10, 46, 0, 49, 26, 47, 48, 13, 27, 28, 47, 11, 11, 39, 44, 43, 23, 11, 34, 46, 34, 4, 9, 30, 27, 44, 10, 46, 35, 46, 0, 0, 4, 46, 15, 39, 9, 39, 46, 47, 18, 43, 44, 18, 1, 11, 27, 48, 31, 11, 27, 11, 48, 39, 26, 39, 2, 15, 16, 36, 21, 34, 37, 37, 23, 29, 46, 34, 21, 9, 11, 20, 6, 0, 4, 47, 0, 39, 44, 45, 46, 10, 48, 21, 11, 36, 30, 46, 11, 47, 9, 47, 11, 0, 15, 11, 30, 27, 17, 45, 42, 1, 0, 44, 24, 10, 41, 36, 14, 13, 46, 28, 44, 6, 0, 34, 27, 0, 46, 34, 48, 5, 26, 35, 36, 11, 8, 34, 13, 13, 11, 11, 8, 4, 29, 18, 11, 0, 19, 46, 13, 11, 47, 11, 34, 11, 11, 16, 0, 9, 20, 28, 34, 14, 16, 11, 6, 13, 44, 8, 34, 30, 23, 34, 2, 21, 11, 46, 46, 9, 26, 36, 28, 4, 30, 15, 30, 19, 11, 46, 46, 11, 47, 40, 39, 11, 18, 46, 34, 45, 46, 46, 11, 17, 32, 0, 17, 29, 8, 11, 34, 47, 9, 18, 11, 38, 46, 0, 47, 11, 6, 45, 47, 38, 28, 4, 48, 34, 0, 45, 27, 11, 11, 20, 8, 34, 13, 27, 46, 11, 21, 4, 4, 28, 34, 27, 11, 11, 46, 8, 34, 11, 11, 46, 44, 11, 11, 8, 10, 4, 26, 30, 39, 13, 11, 18, 9, 27, 28, 28, 41, 34, 26, 8, 35, 10, 36, 18, 40, 18, 22, 28, 46, 18, 6, 34, 34, 44, 46, 46, 36, 8, 11, 1, 11, 30, 22, 34, 36, 46, 45, 11, 34, 5, 0, 17, 39, 11, 24, 34, 1, 4, 46, 34, 38, 46, 30, 47, 0, 34, 0, 46, 45, 8, 11, 13, 1, 47, 23, 11, 11, 15, 11, 48, 47, 11, 4, 46, 46, 46, 19, 34, 44, 39, 30, 27, 34, 46, 34, 46, 11, 13, 11, 39, 26, 34, 47, 10, 34, 6, 34, 37, 8, 0, 8, 24, 22, 11, 47, 11, 27, 30, 11, 46, 16, 34, 46, 47, 48, 45, 34, 35, 11, 0, 30, 4, 34, 11, 48, 8, 24, 30, 23, 1, 36, 11, 28, 46, 4, 13, 27, 41, 47, 46, 15, 18, 8, 44, 0, 40, 46, 1, 18, 20, 11, 11, 11, 45, 26, 10, 47, 21, 21, 44, 0, 43, 34, 19, 30, 31, 8, 19, 11, 45, 6, 28, 39, 11, 47, 9, 48, 34, 26, 13, 10, 1, 28, 11, 46, 4, 6, 0, 28, 11, 1, 49, 11, 41, 34, 11, 47, 45, 27, 4, 34, 11, 27, 0, 37, 34, 18, 11, 11, 30, 27, 17, 47, 11, 46, 15, 46, 46, 47, 34, 10, 46, 19, 18, 47, 47, 24, 38, 48, 13, 28, 11, 15, 47, 9, 17, 27, 46, 15, 10, 27, 46, 47, 44, 27, 46, 31, 38, 14, 0, 44, 0, 34, 40, 36, 26, 34, 39, 10, 0, 45, 44, 21, 8, 6, 11, 5, 0, 11, 11, 24, 47, 11, 20, 23, 23, 47, 34, 11, 30, 11, 34, 16, 47, 23, 34, 39, 11, 27, 28, 11, 11, 26, 6, 46, 13, 47, 11, 28, 11, 46, 27, 34, 15, 11, 19, 34, 11, 11, 21, 3, 9, 39, 32, 18, 6, 4, 38, 34, 19, 8, 4, 20, 16, 35, 36, 0, 43, 36, 47, 0, 11, 20, 11, 11, 34, 0, 44, 34, 1, 34, 3, 23, 27, 27, 46, 23, 34, 42, 39, 0, 34, 0, 48, 46, 23, 19, 46, 23, 10, 15, 44, 47, 41, 47, 23, 21, 11, 47, 37, 0, 34, 43, 11, 41, 11, 18, 0, 30, 11, 46, 22, 28, 3, 43, 47, 41, 10, 11, 3, 4, 34, 41, 23, 0, 11, 28, 1, 34, 11, 10, 27, 0, 15, 8, 11, 47, 13, 40, 47, 46, 29, 44, 39, 20, 47, 24, 46, 18, 46, 34, 45, 10, 45, 48, 0, 34, 46, 47, 5, 11, 34, 16, 4, 28, 34, 13, 13, 43, 13, 8, 17, 8, 39, 11, 47, 34, 4, 11, 1, 1, 4, 19, 11, 46, 19, 4, 23, 10, 10, 34, 4, 34, 34, 4, 46, 11, 47, 46, 44, 47, 11, 30, 48, 44, 0, 0, 30, 34, 29, 48, 11, 46, 19, 26, 11, 34, 11, 4, 14, 34, 30, 44, 27, 8, 36, 11, 4, 10, 34, 30, 38, 10, 34, 0, 21, 46, 29, 28, 41, 34, 46, 11, 11, 18, 28, 4, 47, 44, 31, 45, 47, 4, 30, 28, 24, 6, 27, 23, 34, 23, 9, 30, 14, 48, 27, 11, 47, 30, 27, 11, 28, 9, 28, 10, 46, 11, 32, 34, 47, 28, 48, 47, 34, 13, 35, 39, 17, 0, 20, 11, 46, 47, 48, 36, 46, 14, 18, 11, 46, 46, 27, 27, 46, 30, 47, 36, 4, 48, 10, 34, 11, 28, 36, 28, 27, 8, 44, 28, 47, 4, 21, 34, 23, 9, 36, 31, 11, 46, 18, 11, 11, 18, 0, 47, 22, 11, 11, 47, 6, 47, 34, 36, 8, 49, 34, 4, 11, 44, 47, 11, 27, 44, 44, 19, 39, 10, 4, 46, 11, 40, 34, 47, 24, 18, 46, 13, 15, 27, 11, 48, 46, 9, 39, 4, 34, 48, 34, 13, 11, 29, 27, 34, 26, 40, 9, 45, 39, 28, 26, 10, 11, 1, 23, 46, 8, 0, 39, 9, 32, 0, 46, 46, 31, 27, 0, 48, 0, 34, 23, 48, 27, 10, 28, 30, 14, 46, 15, 34, 11, 1, 34, 11, 20, 4, 46, 11, 4, 30, 39, 47, 48, 6, 13, 39, 18, 27, 11, 11, 45, 34, 6, 31, 20, 11, 23, 8, 39, 27, 41, 44, 45, 34, 11, 30, 24, 11, 26, 46, 44, 8, 11, 20, 18, 34, 34, 38, 36, 4, 30, 37, 34, 6, 34, 8, 28, 23, 21, 11, 24, 11, 9, 11, 11, 26, 11, 11, 48, 19, 34, 0, 28, 0, 11, 46, 34, 49, 46, 46, 13, 11, 28, 26, 11, 45, 11, 5, 4, 30, 29, 18, 4, 49, 11, 36, 49, 18, 17, 16, 3, 34, 30, 9, 11, 34, 22, 0, 44, 5, 34, 4, 13, 6, 27, 10, 39, 34, 47, 28, 44, 4, 35, 23, 11, 9, 19, 11, 47, 34, 11, 11, 34, 39, 1, 22, 14, 4, 46, 30, 17, 46, 34, 39, 28, 21, 34, 46, 28, 35, 21, 8, 34, 5, 14, 42, 0, 8, 11, 0, 23, 44, 22, 37, 34, 44, 37, 11, 11, 16, 34, 37, 5, 11, 45, 27, 34, 34, 15, 2, 39, 24, 34, 39, 10, 46, 8, 34, 34, 0, 29, 35, 36, 14, 47, 18, 10, 8, 41, 4, 19, 3, 4, 10, 6, 21, 4, 16, 27, 11, 30, 34, 34, 39, 46, 34, 34, 43, 38, 34, 6, 41, 45, 11, 43, 0, 41, 34, 18, 23, 41, 21, 17, 0, 11, 11, 34, 47, 11, 1, 11, 45, 37, 20, 28, 46, 11, 0, 11, 46, 5, 31, 11, 34, 11, 34, 39, 29, 11, 8, 11, 34, 13, 11, 45, 11, 28, 47, 11, 33, 39, 11, 35, 34, 23, 5, 16, 42, 39, 28, 3, 48, 19, 43, 9, 26, 44, 6, 21, 46, 46, 46, 34, 38, 22, 6, 30, 46, 48, 43, 47, 19, 1, 18, 30, 5, 36, 27, 23, 0, 34, 46, 34, 4, 21, 28, 46, 8, 16, 47, 21, 21, 46, 1, 47, 10, 34, 11, 0, 27, 34, 34, 14, 45, 39, 44, 34, 23, 34, 14, 46, 16, 11, 46, 39, 9, 34, 0, 48, 27, 30, 11, 34, 46, 11, 23, 21, 14, 46, 11, 26, 39, 28, 34, 11, 30, 46, 11, 11, 34, 23, 19, 36, 46, 28, 46, 47, 16, 34, 32, 4, 34, 11, 47, 46, 28, 19, 0, 47, 28, 27, 41, 18, 18, 34, 0, 6, 0, 46, 47, 44, 46, 43, 34, 22, 48, 34, 10, 4, 24, 46, 11, 23, 46, 11, 46, 0, 10, 47, 31, 45, 44, 47, 47, 11, 37, 11, 36, 21, 11, 30, 34, 11, 46, 18, 34, 46, 10, 11, 35, 46, 11, 20, 6, 27, 47, 23, 24, 0, 20, 47, 11, 11, 34, 46, 27, 18, 18, 46, 47, 21, 11, 28, 47, 39, 24, 11, 39, 10, 43, 44, 26, 11, 46, 48, 1, 9, 46, 21, 5, 11, 28, 47, 27, 47, 15, 13, 15, 11, 47, 34, 11, 44, 11, 44, 27, 26, 34, 34, 48, 46, 40, 17, 34, 11, 37, 46, 27, 6, 9, 47, 11, 39, 9, 10, 11, 46, 20, 27, 4, 11, 38, 8, 11, 48, 41, 46, 8, 22, 47, 11, 13, 0, 14, 37, 0, 0, 47, 47, 27, 45, 37, 47, 21, 44, 47, 26, 24, 27, 48, 10, 1, 6, 1, 28, 11, 26, 15, 15, 28, 13, 27, 30, 47, 34, 27, 44, 6, 24, 29, 11, 34, 11, 11, 0, 46, 46, 47, 44, 26, 30, 19, 11, 11, 47, 13, 44, 10, 41, 44, 28, 44, 34, 9, 48, 28, 47, 46, 27, 24, 44, 1, 9, 4, 30, 46, 11, 11, 6, 18, 47, 4, 11, 34, 37, 11, 46, 34, 14, 34, 26, 21, 34, 39, 46, 44, 8, 11, 39, 30, 24, 46, 9, 28, 47, 46, 48, 27, 20, 28, 46, 29, 23, 6, 48, 41, 28, 0, 47, 4, 36, 46, 34, 4, 8, 9, 12, 39, 46, 46, 11, 11, 8, 22, 2, 46, 2, 13, 11, 4, 47, 0, 0, 9, 34, 10, 34, 36, 34, 5, 26, 6, 27, 1, 34, 30, 18, 10, 21, 39, 11, 5, 4, 15, 28, 26, 45, 11, 11, 35, 49, 34, 21, 4, 13, 11, 34, 8, 39, 26, 15, 4, 41, 42, 11, 24, 47, 34, 34, 46, 18, 9, 36, 10, 28, 30, 34, 11, 47, 43, 11, 34, 47, 27, 38, 39, 34, 4, 47, 34, 11, 38, 30, 18, 0, 41, 44, 11, 11, 48, 11, 34, 0, 0, 6, 4, 31, 21, 9, 8, 34, 34, 37, 1, 0, 28, 11, 0, 47, 0, 34, 44, 45, 26, 27, 34, 23, 34, 9, 47, 47, 34, 48, 4, 9, 45, 13, 39, 48, 47, 36, 47, 43, 10, 0, 36, 46, 17, 34, 35, 47, 11, 27, 21, 46, 0, 45, 46, 1, 11, 27, 20, 0, 27, 27, 1, 13, 34, 37, 21, 40, 23, 28, 28, 11, 34, 18, 0, 1, 27, 0, 11, 19, 28, 20, 47, 21, 0, 47, 23, 11, 39, 4, 47, 47, 0, 18, 47, 16, 5, 26, 41, 11, 4, 23, 0, 10, 28, 26, 16, 3, 46, 34, 11, 36, 24, 23, 38, 47, 4, 48, 36, 28, 26, 43, 10, 20, 34, 46, 36, 34, 34, 14, 11, 15, 13, 23, 11, 28, 23, 9, 27, 11, 11, 44, 44, 30, 21, 23, 10, 11, 26, 0, 46, 48, 46, 11, 21, 48, 41, 46, 46, 11, 34, 15, 20, 46, 34, 11, 27, 11, 46, 4, 21, 46, 48, 0, 36, 36, 28, 47, 18, 48, 19, 11, 28, 48, 1, 34, 39, 47, 27, 39, 20, 0, 39, 11, 11, 26, 48, 45, 11, 0, 11, 29, 11, 9, 11, 48, 6, 46, 47, 46, 29, 34, 11, 16, 34, 34, 37, 13, 39, 46, 6, 44, 46, 21, 0, 6, 44, 11, 14, 34, 28, 18, 47, 4, 34, 18, 39, 8, 43, 46, 47, 2, 39, 35, 46, 11, 19, 11, 19, 34, 47, 46, 47, 4, 0, 47, 46, 34, 6, 44, 48, 30, 3, 31, 15, 46, 44, 45, 46, 39, 40, 21, 10, 34, 14, 18, 4, 30, 11, 11, 44, 11, 39, 11, 41, 10, 34, 9, 22, 49, 20, 11, 10, 34, 28, 10, 1, 30, 30, 16, 11, 36, 11, 1, 23, 8, 11, 32, 34, 34, 23, 6, 45, 46, 27, 10, 11, 4, 34, 17, 20, 11, 8, 9, 36, 46, 28, 46, 11, 9, 39, 34, 34, 28, 5, 11, 4, 11, 46, 1, 30, 46, 47, 47, 27, 18, 0, 13, 11, 11, 26, 4, 15, 0, 34, 22, 11, 48, 27, 47, 34, 15, 22, 34, 11, 28, 27, 46, 11, 47, 34, 4, 46, 46, 46, 46, 40, 4, 48, 14, 11, 11, 9, 15, 34, 34, 39, 34, 11, 46, 30, 34, 9, 15, 34, 11, 46, 11, 4, 11, 37, 34, 11, 34, 48, 9, 24, 20, 4, 11, 45, 27, 11, 9, 46, 6, 11, 41, 0, 34, 43, 16, 0, 11, 19, 26, 34, 34, 28, 28, 20, 26, 13, 47, 26, 4, 11, 4, 46, 11, 35, 15, 47, 37, 34, 14, 43, 23, 44, 27, 18, 1, 11, 29, 34, 44, 4, 10, 30, 36, 47, 20, 22, 27, 27, 10, 28, 34, 11, 24, 11, 8, 37, 46, 11, 28, 21, 21, 48, 24, 13, 34, 24, 45, 48, 2, 28, 11, 46, 1, 0, 47, 11, 6, 11, 11, 34, 11, 46, 24, 30, 11, 10, 11, 1, 47, 9, 11, 41, 37, 11, 39, 34, 30, 13, 19, 47, 48, 45, 39, 8, 44, 19, 46, 27, 34, 22, 40, 34, 34, 17, 11, 15, 48, 11, 23, 46, 34, 28, 28, 28, 20, 34, 29, 34, 4, 48, 6, 5, 34, 34, 11, 11, 1, 27, 10, 34, 34, 36, 36, 34, 19, 44, 35, 46, 10, 39, 11, 11, 22, 11, 6, 34, 21, 23, 27, 11, 4, 30, 10, 10, 20, 14, 44, 11, 11, 0, 43, 28, 24, 11, 1, 46, 11, 10, 39, 11, 11, 34, 34, 47, 18, 27, 29, 47, 0, 8, 46, 31, 11, 4, 34, 46, 46, 4, 13, 10, 47, 46, 13, 26, 34, 26, 0, 29, 11, 1, 24, 11, 8, 27, 46, 47, 27, 0, 21, 18, 11, 11, 46, 34, 24, 30, 39, 15, 23, 4, 6, 16, 45, 11, 11, 27, 47, 34, 46, 27, 18, 27, 11, 26, 21, 10, 14, 34, 11, 0, 30, 46, 6, 13, 0, 47, 13, 10, 11, 30, 11, 11, 34, 11, 41, 48, 19, 20, 4, 4, 46, 36, 46, 0, 48, 34, 13, 39, 34, 43, 47, 28, 34, 47, 46, 4, 47, 13, 34, 34, 36, 27, 21, 0, 34, 39, 47, 34, 27, 13, 9, 46, 15, 0, 15, 47, 46, 47, 46, 10, 29, 47, 34, 34, 41, 39, 34, 27, 20, 34, 11, 28, 28, 11, 34, 8, 13, 11, 3, 11, 17, 34, 28, 47, 15, 34, 2, 44, 0, 23, 34, 39, 36, 4, 16, 24, 14, 15, 11, 29, 34, 16, 44, 11, 34, 29, 4, 1, 47, 3, 11, 11, 1, 34, 37, 46, 11, 34, 21, 11, 46, 28, 29, 21, 43, 47, 41, 34, 23, 31, 36, 11, 21, 46, 11, 13, 35, 34, 46, 24, 34, 41, 47, 37, 6, 34, 19, 9, 16, 18, 46, 34, 11, 47, 34, 34, 46, 11, 48, 13, 11, 36, 39, 46, 31, 11, 46, 47, 47, 46, 48, 26, 11, 44, 47, 36, 11, 39, 21, 34, 34, 46, 21, 29, 47, 23, 20, 15, 9, 0, 46, 2, 47, 11, 9, 34, 47, 34, 11, 43, 47, 44, 20, 34, 34, 17, 35, 21, 27, 39, 46, 26, 10, 8, 4, 46, 41, 48, 27, 28, 11, 27, 36, 27, 17, 39, 34, 47, 27, 11, 11, 9, 37, 31, 23, 4, 0, 29, 47, 19, 26, 18, 36, 36, 39, 8, 15, 27, 47, 13, 47, 8, 34, 34, 34, 9, 39, 44, 28, 18, 11, 10, 47, 47, 47, 11, 34, 14, 39, 34, 13, 4, 34, 47, 29, 47, 17, 24, 20, 18, 11, 47, 5, 39, 9, 11, 34, 47, 27, 48, 11, 8, 46, 48, 27, 21, 41, 11, 44, 4, 28, 11, 46, 6, 28, 23, 21, 46, 23, 0, 44, 44, 44, 34, 30, 47, 30, 3, 27, 46, 11, 21, 46, 9, 47, 19, 46, 6, 27, 30, 34, 34, 34, 11, 4, 11, 24, 28, 34, 6, 11, 36, 21, 8, 29, 13, 18, 18, 11, 11, 34, 46, 23, 23, 30, 47, 2, 28, 36, 29, 28, 5, 34, 30, 48, 11, 34, 31, 46, 9, 34, 11, 11, 46, 15, 49, 48, 11, 47, 15, 6, 34, 11, 16, 11, 9, 44, 3, 21, 11, 18, 34, 34, 0, 5, 24, 27, 46, 21, 34, 24, 46, 46, 16, 28, 36, 11, 39, 28, 19, 6, 46, 36, 5, 18, 47, 47, 46, 0, 21, 34, 34, 13, 20, 0, 23, 4, 47, 1, 8, 34, 34, 47, 11, 10, 44, 41, 5, 5, 11, 46, 9, 46, 11, 47, 46, 34, 27, 11, 18, 41, 11, 47, 11, 47, 46, 31, 21, 26, 34, 27, 44, 47, 27, 11, 34, 47, 11, 15, 15, 46, 24, 47, 9, 46, 34, 46, 21, 0, 45, 46, 10, 34, 34, 13, 31, 4, 34, 47, 39, 26, 11, 39, 11, 34, 0, 11, 8, 11, 21, 4, 45, 28, 48, 17, 47, 4, 11, 11, 9, 47, 23, 47, 1, 11, 30, 10, 0, 11, 47, 4, 34, 47, 8, 47, 34, 46, 28, 1, 46, 11, 11, 18, 45, 4, 22, 26, 26, 46, 34, 34, 0, 0, 37, 11, 46, 11, 34, 47, 28, 28, 43, 29, 18, 44, 47, 4, 11, 27, 11, 9, 14, 11, 37, 44, 34, 9, 46, 46, 47, 20, 4, 11, 0, 46, 47, 0, 46, 21, 48, 34, 23, 34, 30, 20, 0, 11, 47, 11, 34, 20, 0, 27, 34, 47, 18, 34, 13, 28, 21, 41, 11, 17, 5, 0, 43, 22, 23, 32, 11, 11, 10, 30, 20, 11, 11, 29, 11, 47, 1, 11, 14, 21, 10, 11, 11, 10, 11, 0, 21, 11, 14, 28, 26, 35, 46, 30, 1, 11, 47, 16, 20, 1, 30, 26, 46, 8, 23, 0, 28, 31, 43, 43, 11, 46, 46, 11, 1, 11, 34, 44, 31, 0, 14, 11, 37, 31, 15, 28, 20, 30, 47, 46, 9, 29, 37, 5, 18, 46, 47, 27, 0, 5, 34, 11, 47, 27, 0, 41, 1, 23, 39, 28, 29, 4, 15, 46, 28, 11, 15, 11, 16, 4, 20, 4, 11, 47, 11, 18, 15, 34, 34, 39, 13, 8, 46, 11, 23, 39, 20, 36, 0, 23, 30, 40, 6, 36, 19, 47, 20, 3, 46, 27, 9, 11, 33, 29, 46, 21, 46, 39, 30, 27, 29, 46, 4, 34, 46, 39, 46, 11, 46, 11, 34, 11, 4, 0, 0, 21, 3, 44, 45, 46, 46, 10, 35, 0, 11, 47, 26, 1, 47, 39, 47, 46, 27, 34, 46, 46, 33, 0, 47, 48, 34, 28, 16, 23, 11, 27, 4, 9, 28, 41, 28, 13, 34, 30, 31, 34, 9, 34, 0, 27, 29, 34, 27, 45, 28, 30, 36, 48, 11, 46, 34, 47, 11, 24, 15, 11, 27, 4, 11, 18, 9, 34, 47, 34, 48, 11, 11, 0, 9, 13, 39, 45, 11, 34, 46, 11, 47, 34, 46, 21, 47, 14, 40, 27, 29, 0, 46, 19, 18, 6, 13, 11, 0, 44, 8, 1, 36, 10, 6, 8, 10, 37, 1, 46, 26, 34, 48, 0, 47, 45, 46, 11, 4, 32, 48, 34, 44, 8, 34, 46, 11, 0, 4, 23, 11, 23, 0, 27, 34, 37, 40, 4, 13, 8, 32, 34, 34, 48, 34, 44, 20, 20, 4, 9, 34, 44, 41, 34, 34, 10, 23, 21, 34, 23, 11, 37, 34, 47, 35, 47, 27, 5, 0, 46, 37, 36, 47, 0, 44, 41, 45, 30, 14, 9, 34, 10, 46, 4, 34, 11, 21, 36, 4, 3, 34, 46, 41, 18, 46, 4, 27, 11, 29, 47, 4, 38, 28, 24, 34, 6, 36, 43, 11, 34, 18, 46, 21, 21, 46, 38, 34, 34, 34, 11, 28, 21, 9, 44, 36, 27, 46, 11, 27, 20, 14, 46, 46, 15, 24, 11, 46, 45, 13, 44, 6, 8, 4, 21, 30, 9, 21, 9, 15, 31, 20, 27, 46, 34, 28, 30, 11, 28, 46, 47, 44, 34, 47, 18, 41, 34, 34, 31, 11, 46, 10, 47, 47, 0, 26, 0, 1, 36, 45, 28, 4, 11, 19, 46, 27, 18, 34, 39, 36, 11, 1, 36, 0, 45, 34, 8, 10, 34, 46, 9, 46, 45, 47, 34, 4, 46, 47, 11, 30, 46, 1, 46, 34, 34, 10, 19, 6, 39, 4, 34, 46, 11, 13, 6, 48, 34, 34, 30, 24, 11, 47, 13, 23, 44, 34, 28, 5, 47, 26, 36, 9, 16, 34, 47, 20, 10, 0, 28, 0, 45, 34, 27, 47, 46, 9, 44, 18, 6, 4, 0, 10, 8, 11, 47, 34, 34, 0, 20, 2, 47, 46, 34, 45, 34, 6, 28, 13, 10, 28, 9, 47, 29, 23, 48, 13, 27, 48, 47, 8, 15, 34, 34, 48, 39, 9, 30, 47, 8, 18, 9, 47, 17, 34, 46, 9, 46, 34, 27, 44, 22, 39, 28, 24, 36, 37, 46, 10, 1, 4, 46, 11, 1, 11, 21, 11, 11, 34, 41, 47, 11, 46, 11, 23, 11, 11, 44, 10, 9, 34, 8, 22, 26, 47, 11, 39, 30, 28, 4, 9, 34, 46, 4, 11, 46, 46, 39, 0, 47, 47, 21, 36, 6, 27, 21, 6, 47, 4, 29, 28, 10, 11, 11, 34, 11, 44, 47, 34, 1, 11, 11, 46, 16, 47, 27, 11, 23, 46, 34, 34, 46, 39, 27, 46, 15, 11, 8, 24, 4, 46, 28, 4, 48, 39, 46, 27, 15, 9]\n"
     ]
    }
   ],
   "source": [
    "#print(train_df.iloc[random_article_index,3])\n",
    "for i in range(0,len(train_df)):\n",
    "    \n",
    "    bow = dictionary.doc2bow(train_df.iloc[i,7])\n",
    "    doc_distribution = np.array([tup[1] for tup in lda.get_document_topics(bow=bow)])\n",
    "    lis=(lda.get_document_topics(bow=bow))\n",
    "    \n",
    "    list_topic_train.append((max(lis,key=lambda item:item[1])[0]))\n",
    "print (list_topic_train)\n",
    "\n",
    "\n"
   ]
  },
  {
   "cell_type": "code",
   "execution_count": 26,
   "metadata": {},
   "outputs": [
    {
     "name": "stdout",
     "output_type": "stream",
     "text": [
      "[12, 11, 18, 34, 0, 48, 34, 23, 34, 47, 0, 34, 11]\n"
     ]
    }
   ],
   "source": [
    "for i in range(0,len(test_df)):\n",
    "    \n",
    "    bow = dictionary.doc2bow(test_df.iloc[i,7])\n",
    "    doc_distribution = np.array([tup[1] for tup in lda.get_document_topics(bow=bow)])\n",
    "    lis=(lda.get_document_topics(bow=bow))\n",
    "    \n",
    "    list_topic_test.append((max(lis,key=lambda item:item[1])[0]))\n",
    "print (list_topic_test)"
   ]
  },
  {
   "cell_type": "code",
   "execution_count": 38,
   "metadata": {},
   "outputs": [
    {
     "name": "stdout",
     "output_type": "stream",
     "text": [
      "11 [('go', 0.018975839), ('peopl', 0.017050752), ('like', 0.015878962), ('get', 0.015114337), ('know', 0.014301469), ('dont', 0.013838522), ('one', 0.012370292), ('think', 0.012221741), ('thing', 0.011709022), ('want', 0.011508234)] \n",
      "\n",
      "14 [('war', 0.038664386), ('world', 0.02413539), ('america', 0.021025945), ('american', 0.015775876), ('us', 0.013717905), ('nation', 0.01143558), ('histori', 0.010251389), ('lie', 0.0075709913), ('murder', 0.006798515), ('militari', 0.0063774628)] \n",
      "\n",
      "9 [('human', 0.021825202), ('world', 0.015698472), ('life', 0.012177795), ('us', 0.011673529), ('energi', 0.011177607), ('power', 0.010007967), ('light', 0.009727637), ('new', 0.008290365), ('creat', 0.008036306), ('mind', 0.007862289)] \n",
      "\n",
      "46 [('clinton', 0.07100587), ('fbi', 0.039658155), ('hillari', 0.034637854), ('email', 0.033909146), ('investig', 0.027382005), ('comey', 0.013541592), ('foundat', 0.009998847), ('server', 0.008367257), ('depart', 0.007938452), ('inform', 0.007285623)] \n",
      "\n",
      "1 [('dr', 0.010516277), ('vaccin', 0.010485833), ('medic', 0.008339889), ('use', 0.008314815), ('drug', 0.007858493), ('doctor', 0.0073545123), ('mani', 0.0072879614), ('one', 0.0072488445), ('children', 0.0052791587), ('peopl', 0.0050106184)] \n",
      "\n"
     ]
    }
   ],
   "source": [
    "# print the top 5 contributing topics and their words\n",
    "for i in doc_distribution.argsort()[-5:][::-1]:\n",
    "    print(i, lda.show_topic(topicid=i, topn=10), \"\\n\")"
   ]
  },
  {
   "cell_type": "code",
   "execution_count": 30,
   "metadata": {},
   "outputs": [
    {
     "name": "stdout",
     "output_type": "stream",
     "text": [
      "11\n"
     ]
    }
   ],
   "source": [
    "# select and article at random from test_df\n",
    "random_article_index = np.random.randint(len(test_df))\n",
    "print(random_article_index)"
   ]
  },
  {
   "cell_type": "code",
   "execution_count": 31,
   "metadata": {},
   "outputs": [],
   "source": [
    "new_bow = dictionary.doc2bow(test_df.iloc[random_article_index,7])"
   ]
  },
  {
   "cell_type": "code",
   "execution_count": 35,
   "metadata": {},
   "outputs": [
    {
     "name": "stdout",
     "output_type": "stream",
     "text": [
      "\n",
      "\n",
      "We have eight days until America meets her ultimate fate and this is what we are about to inherit as a leader.\n",
      " \n",
      "Hillary’s Epitaph By hook, or crook, this is who we are about to elect into the White House. This is what she’s accomplished:\n",
      "White Water Sitting on the Board of LaFarge when the first payments were given to fund ISIS The first failed version of Obamacare when she was first lady Vince Foster The Travelgate scandal when she was the First Lady Selling 20% of America’s uranium to the Russian (NY Times) TREASON Stealing $2 billion of Haitian relief money. Posting Ambassador Stevens travel plans prior to Benghazi ACCOMPLICE TO MURDER Benghazi The drug and money laundering of the Clinton Foundation Paying out 5% of the total proceeds of the Clinton Foundation to charity while pocketing the rest Using foreign money in Presidential campaign Pay for play- Perpetuating arms arms deals with nations that sponsor terrorism in exchange for payments to the Clinton Foundation Preparing to run to a country who has no extradition agreement with the United States in order to escape the justice that is coming her way (eg Qatar). The ongoing email scandal in which she obstructed justice by deleting 33,000 emails that were under investigation by Congress The ongoing email scandal in which she sent out emails with security designations as “ABOVE TOP SECRET” and she did so 22 times ESPIONAGE Refusing to step down and creating a constitutional crisis in a nation that is hopelessly divided already Hillary’s new administration will consist of the following goals and this is not even being kept secret.\n",
      "Enacting the largest tax increase on Americans at $1.3 trillion dollars. The elimination of the family structure as we know it though increased power given to CPS’ around the country though Health and Human Services. Remember? It take a Village to Raise a Child? Or, was it the Village Idiot? The elimination of inheritance. The elimination of Christianity. The elimination of free speech and she has made this one abundantly clear with her comments toward the alt. media. The elimination of free speech. The creation of a borderless nation. Increasing the importation of possible terrorists with national security vetting. The elimination of the Second Amendment. A President who will never leave office until she dies. We are witnessing the possible installation of the modern day version of Stalin as the President of the United States.\n",
      "I could go on and on, but fortunately, I still have a life that is worth living.\n",
      "The big question is this: Why aren’t Americans from every race, color and religion in the streets demanding an end to her candidacy?\n",
      "I have written about this before, perhaps America is now ready to look at herself in the mirror.\n",
      "The following represents why America has not had enough of the criminality. The following 3 psychological principles have manifested in the form of a self-created prison that over half the country finds itself in.\n",
      "The CNN Effect-Group Think The world of psychological research provides the definitive answer as to whether we should fear our military in the coming storm ahead in the form of a phenomenon called group think . Group think is often described as a decision-making process whereby the group members go along with what they believe is the consensus. Group think has also been used to describe individual acquiescence to authority even when the authority has limited power to enforce compliance. Group think often causes groups to make hasty, irrational decisions, where individual doubts are set aside, for fear of upsetting the group’s leadership and balance.\n",
      "The Migram Experiment\n",
      "The controversial 1963 experiment, known as the Milgram Experiment demonstrated that with very minimal verbal pressure, and nothing else, approximately 65% of the population will put someone to death based upon the orders of a perceived authority figure. And this occurs when the authority figure, in the Milgram experiment was not allowed to apply any REAL threats. For a complete description of the Milgram Experiment, please click here .\n",
      "\n",
      "The MSM tells America Trump cannot win, Hillary is good and Donald is bad. The political leaders, owned by the corporations who have been raping this country for 40 years tell us to vote for the criminal Clinton. And like good little sheep, we follow orders of the elite, just like the Nazis.\n",
      " \n",
      "IF the Media Tells the Lie Often Enough, the People Will Come to Believe It: Confirmation Bias “We’ll know our disinformation program is complete when everything the public believes is false.” \n",
      "William Casey, former CIA Director\n",
      "Confirmation bias is the same in any tyrannical form of government.\n",
      "The social psychological term, confirmation bias, refers to the fact that the masses will believe even the biggest of lies, if they hear it often enough. Confirmation bias and group think work hand in hand to enslave Americans into believing in and accepting a self-destructive paradigm. Television MSM news has a filtering impact on the perception of reality . The psychological concept of confirmation bias means that when we hear a message often enough, we come to unquestionably accept the message as authentic and real. And the message is amazingly consistent because only six globalist corporate entities control over 95% of the media. \n",
      "Donald Trump is racist! You have heard it before and you will keep hearing it until every nonwhite person in America believes that if he elected, America will see a race war.\n",
      "\n",
      " \n",
      " \n",
      "Racist and sexist, that’s Donald Trump and we hear this over and over and over and the unaware masses in this country come to believe as the real facts fade into the background.\n",
      "Trump Cannot Win According to the Polls, Says the MSM and It Doesn’t Matter What You Do- Learned Helplessness \n",
      "Why won’t America stand up for herself? Why is the country, once a country which possessed courage and conviction, now sitting idly while allowing itself to be taken to the slaughter without so much as a whimper?\n",
      "The answer to the above question lies in the psychological concept known as “Learned Helplessness” as discovered by Martin Seligman in the 1960’s.\n",
      "“Learned helplessness” occurs when an animal, or a person, is repeatedly subjected to an aversive stimulus that it cannot escape from. Eventually, the animal will stop trying to avoid the stimulus and behave as if it is utterly helpless to change the situation. Even when opportunities to escape are presented, this learned helplessness will prevent any action ”.\n",
      " \n",
      "\n",
      " \n",
      "Phase One \n",
      "In the first phase of the learned helplessness experiment, Seligman placed a dog on an electrical grid, shocked the dog and noted that the dog would demonstrate the ability to escape the aversive stimulus.\n",
      "Phase Two \n",
      "In the second phase, the dog was barricaded on the grid and was unable to escape the painful shocks. Eventually the dog laid down and passively accepted the shock.\n",
      "Phase Three \n",
      "Seligman then removed the barricades and the dog could have easily escaped the shocks. However, the dog, conditioned by the prior set of events, simply laid down and accepted the shocks, without mounting any resistance whatsoever. This, in large part, is where America is at today.\n",
      "Trump has removed the barrier (phase three) and America has a chance to redeem herself in the eyes of God. We have a chance to reclaim a measure of respectability from the criminal enterprise system that we presently under.\n",
      "The research shows us that one factor, and only one factor, can move the masses to action. When people see their loved ones in danger (ie cannot feed their children), they will act with purpose. This is the angle that the awake must use to awaken the sleeping sheep in this country. Do I think it is going to happen, I don’t think so. However, if we all get on our knees and pray to God for forgiveness and deliverance, we might be surprised at what happens.\n",
      "There are only 8 days to America’s Armageddon  \n",
      " \n",
      "P lease Donate to The Common Sense Show \n",
      " \n",
      "PLEASE SUBSCRIBE TO OUR YOUTUBE CHANNEL AND DON’T FORGET TO “LIKE” US \n",
      "\n",
      " \n",
      "\n",
      "This is the absolute best in food storage. Dave Hodges is a satisfied customer. Don’t wait until it is too late. Click Here for more information.\n",
      " \n",
      "\n",
      "\n",
      "Click here for more information \n",
      " \n",
      "The sane alternative to Facebook \n",
      "Seen.Life-The Facebook alternative- no censorship, no spying– Sign up here \n",
      "\n"
     ]
    }
   ],
   "source": [
    "print(test_df.iloc[random_article_index,3])"
   ]
  },
  {
   "cell_type": "code",
   "execution_count": 32,
   "metadata": {},
   "outputs": [],
   "source": [
    "new_doc_distribution = np.array([tup[1] for tup in lda.get_document_topics(bow=new_bow)])"
   ]
  },
  {
   "cell_type": "code",
   "execution_count": 33,
   "metadata": {},
   "outputs": [
    {
     "data": {
      "image/png": "[encoded data removed]",
      "text/plain": [
       "<Figure size 864x432 with 1 Axes>"
      ]
     },
     "metadata": {},
     "output_type": "display_data"
    }
   ],
   "source": [
    "# bar plot of topic distribution for this document\n",
    "fig, ax = plt.subplots(figsize=(12,6));\n",
    "# the histogram of the data\n",
    "patches = ax.bar(np.arange(len(new_doc_distribution)), new_doc_distribution)\n",
    "ax.set_xlabel('Topic ID', fontsize=15)\n",
    "ax.set_ylabel('Topic Contribution', fontsize=15)\n",
    "ax.set_title(\"Topic Distribution for an Unseen Article\", fontsize=20)\n",
    "ax.set_xticks(np.linspace(10,100,10))\n",
    "fig.tight_layout()\n",
    "plt.show()"
   ]
  },
  {
   "cell_type": "code",
   "execution_count": 37,
   "metadata": {},
   "outputs": [
    {
     "name": "stdout",
     "output_type": "stream",
     "text": [
      "11 [('go', 0.018975839), ('peopl', 0.017050752), ('like', 0.015878962), ('get', 0.015114337), ('know', 0.014301469), ('dont', 0.013838522), ('one', 0.012370292), ('think', 0.012221741), ('thing', 0.011709022), ('want', 0.011508234)] \n",
      "\n",
      "14 [('war', 0.038664386), ('world', 0.02413539), ('america', 0.021025945), ('american', 0.015775876), ('us', 0.013717905), ('nation', 0.01143558), ('histori', 0.010251389), ('lie', 0.0075709913), ('murder', 0.006798515), ('militari', 0.0063774628)] \n",
      "\n",
      "9 [('human', 0.021825202), ('world', 0.015698472), ('life', 0.012177795), ('us', 0.011673529), ('energi', 0.011177607), ('power', 0.010007967), ('light', 0.009727637), ('new', 0.008290365), ('creat', 0.008036306), ('mind', 0.007862289)] \n",
      "\n",
      "46 [('clinton', 0.07100587), ('fbi', 0.039658155), ('hillari', 0.034637854), ('email', 0.033909146), ('investig', 0.027382005), ('comey', 0.013541592), ('foundat', 0.009998847), ('server', 0.008367257), ('depart', 0.007938452), ('inform', 0.007285623)] \n",
      "\n",
      "1 [('dr', 0.010516277), ('vaccin', 0.010485833), ('medic', 0.008339889), ('use', 0.008314815), ('drug', 0.007858493), ('doctor', 0.0073545123), ('mani', 0.0072879614), ('one', 0.0072488445), ('children', 0.0052791587), ('peopl', 0.0050106184)] \n",
      "\n"
     ]
    }
   ],
   "source": [
    "# print the top 8 contributing topics and their words\n",
    "for i in new_doc_distribution.argsort()[-5:][::-1]:\n",
    "    print(i, lda.show_topic(topicid=i, topn=10), \"\\n\")"
   ]
  },
  {
   "cell_type": "code",
   "execution_count": null,
   "metadata": {},
   "outputs": [],
   "source": []
  }
 ],
 "metadata": {
  "kernelspec": {
   "display_name": "Python 3",
   "language": "python",
   "name": "python3"
  },
  "language_info": {
   "codemirror_mode": {
    "name": "ipython",
    "version": 3
   },
   "file_extension": ".py",
   "mimetype": "text/x-python",
   "name": "python",
   "nbconvert_exporter": "python",
   "pygments_lexer": "ipython3",
   "version": "3.6.5"
  }
 },
 "nbformat": 4,
 "nbformat_minor": 2
}
